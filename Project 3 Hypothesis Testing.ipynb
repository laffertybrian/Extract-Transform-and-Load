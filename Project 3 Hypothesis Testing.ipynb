{
 "cells": [
  {
   "cell_type": "markdown",
   "id": "b7776694",
   "metadata": {},
   "source": [
    "### Loading Libraries"
   ]
  },
  {
   "cell_type": "code",
   "execution_count": 9,
   "id": "b1773e1e",
   "metadata": {},
   "outputs": [],
   "source": [
    "# imports\n",
    "import pandas as pd\n",
    "import numpy as np\n",
    "import matplotlib.pyplot as plt\n",
    "import seaborn as sns\n",
    "import scipy.stats as stats\n",
    "import glob"
   ]
  },
  {
   "cell_type": "markdown",
   "id": "54b385bc",
   "metadata": {},
   "source": [
    "### Loading data"
   ]
  },
  {
   "cell_type": "code",
   "execution_count": 10,
   "id": "19fb6e6f",
   "metadata": {},
   "outputs": [
    {
     "data": {
      "text/plain": [
       "['Data\\\\final_tmbd_data_2000.csv.gz',\n",
       " 'Data\\\\final_tmbd_data_2001.csv.gz',\n",
       " 'Data\\\\final_tmbd_data_2002.csv.gz',\n",
       " 'Data\\\\final_tmbd_data_2003.csv.gz',\n",
       " 'Data\\\\final_tmbd_data_2004.csv.gz',\n",
       " 'Data\\\\final_tmbd_data_2005.csv.gz',\n",
       " 'Data\\\\final_tmbd_data_2006.csv.gz',\n",
       " 'Data\\\\final_tmbd_data_2007.csv.gz',\n",
       " 'Data\\\\final_tmbd_data_2008.csv.gz',\n",
       " 'Data\\\\final_tmbd_data_2009.csv.gz',\n",
       " 'Data\\\\final_tmbd_data_2010.csv.gz',\n",
       " 'Data\\\\final_tmbd_data_2011.csv.gz',\n",
       " 'Data\\\\final_tmbd_data_2012.csv.gz',\n",
       " 'Data\\\\final_tmbd_data_2013.csv.gz',\n",
       " 'Data\\\\final_tmbd_data_2014.csv.gz',\n",
       " 'Data\\\\final_tmbd_data_2015.csv.gz',\n",
       " 'Data\\\\final_tmbd_data_2016.csv.gz',\n",
       " 'Data\\\\final_tmbd_data_2017.csv.gz',\n",
       " 'Data\\\\final_tmbd_data_2018.csv.gz',\n",
       " 'Data\\\\final_tmbd_data_2019.csv.gz',\n",
       " 'Data\\\\final_tmbd_data_2020.csv.gz',\n",
       " 'Data\\\\final_tmbd_data_2021.csv.gz',\n",
       " 'Data\\\\final_tmbd_data_2022.csv.gz']"
      ]
     },
     "execution_count": 10,
     "metadata": {},
     "output_type": "execute_result"
    }
   ],
   "source": [
    "# loading all 23 different year rating files\n",
    "# creating a file path for glob\n",
    "q = \"Data/\"+\"final*.csv.gz\"\n",
    "# using the file path to create a list\n",
    "file_list = glob.glob(q)\n",
    "file_list"
   ]
  },
  {
   "cell_type": "code",
   "execution_count": 11,
   "id": "29762aae",
   "metadata": {},
   "outputs": [
    {
     "data": {
      "text/html": [
       "<div>\n",
       "<style scoped>\n",
       "    .dataframe tbody tr th:only-of-type {\n",
       "        vertical-align: middle;\n",
       "    }\n",
       "\n",
       "    .dataframe tbody tr th {\n",
       "        vertical-align: top;\n",
       "    }\n",
       "\n",
       "    .dataframe thead th {\n",
       "        text-align: right;\n",
       "    }\n",
       "</style>\n",
       "<table border=\"1\" class=\"dataframe\">\n",
       "  <thead>\n",
       "    <tr style=\"text-align: right;\">\n",
       "      <th></th>\n",
       "      <th>imdb_id</th>\n",
       "      <th>title</th>\n",
       "      <th>revenue</th>\n",
       "      <th>budget</th>\n",
       "      <th>rating</th>\n",
       "    </tr>\n",
       "  </thead>\n",
       "  <tbody>\n",
       "    <tr>\n",
       "      <th>0</th>\n",
       "      <td>0</td>\n",
       "      <td>NaN</td>\n",
       "      <td>NaN</td>\n",
       "      <td>NaN</td>\n",
       "      <td>NaN</td>\n",
       "    </tr>\n",
       "    <tr>\n",
       "      <th>1</th>\n",
       "      <td>tt0113026</td>\n",
       "      <td>The Fantasticks</td>\n",
       "      <td>0.0</td>\n",
       "      <td>10000000.0</td>\n",
       "      <td>NaN</td>\n",
       "    </tr>\n",
       "    <tr>\n",
       "      <th>2</th>\n",
       "      <td>tt0113092</td>\n",
       "      <td>For the Cause</td>\n",
       "      <td>0.0</td>\n",
       "      <td>0.0</td>\n",
       "      <td>NaN</td>\n",
       "    </tr>\n",
       "    <tr>\n",
       "      <th>3</th>\n",
       "      <td>tt0118694</td>\n",
       "      <td>In the Mood for Love</td>\n",
       "      <td>12854953.0</td>\n",
       "      <td>150000.0</td>\n",
       "      <td>PG</td>\n",
       "    </tr>\n",
       "    <tr>\n",
       "      <th>4</th>\n",
       "      <td>tt0118852</td>\n",
       "      <td>Chinese Coffee</td>\n",
       "      <td>0.0</td>\n",
       "      <td>0.0</td>\n",
       "      <td>R</td>\n",
       "    </tr>\n",
       "  </tbody>\n",
       "</table>\n",
       "</div>"
      ],
      "text/plain": [
       "     imdb_id                 title     revenue      budget rating\n",
       "0          0                   NaN         NaN         NaN    NaN\n",
       "1  tt0113026       The Fantasticks         0.0  10000000.0    NaN\n",
       "2  tt0113092         For the Cause         0.0         0.0    NaN\n",
       "3  tt0118694  In the Mood for Love  12854953.0    150000.0     PG\n",
       "4  tt0118852        Chinese Coffee         0.0         0.0      R"
      ]
     },
     "execution_count": 11,
     "metadata": {},
     "output_type": "execute_result"
    }
   ],
   "source": [
    "# loading all of the files into one dataframe\n",
    "df = pd.concat([pd.read_csv(file) for file in file_list])\n",
    "df.head()"
   ]
  },
  {
   "cell_type": "markdown",
   "id": "d009aaa6",
   "metadata": {},
   "source": [
    "### Exploring and Cleaning dataset"
   ]
  },
  {
   "cell_type": "code",
   "execution_count": 12,
   "id": "29023bf3",
   "metadata": {},
   "outputs": [],
   "source": [
    "# removing rows where imdb_id is equal to 0 of dataframe\n",
    "df = df.loc[df['imdb_id'] != 0]"
   ]
  },
  {
   "cell_type": "code",
   "execution_count": 13,
   "id": "fdc62eb7",
   "metadata": {},
   "outputs": [
    {
     "data": {
      "text/plain": [
       "R                                  6265\n",
       "NR                                 3365\n",
       "PG-13                              3305\n",
       "PG                                 1471\n",
       "G                                   449\n",
       "NC-17                               161\n",
       "Unrated                               5\n",
       "-                                     1\n",
       "UR                                    1\n",
       "Not Rated                             1\n",
       "ScreamFest Horror Film Festival       1\n",
       "R                                     1\n",
       "PG-13                                 1\n",
       "10                                    1\n",
       "Name: rating, dtype: int64"
      ]
     },
     "execution_count": 13,
     "metadata": {},
     "output_type": "execute_result"
    }
   ],
   "source": [
    "# reviewing value counts of the rating column\n",
    "df['rating'].value_counts()"
   ]
  },
  {
   "cell_type": "code",
   "execution_count": 14,
   "id": "a1c1ccd8",
   "metadata": {},
   "outputs": [
    {
     "data": {
      "text/plain": [
       "R        6266\n",
       "NR       3374\n",
       "PG-13    3306\n",
       "PG       1471\n",
       "G         449\n",
       "NC-17     161\n",
       "Name: rating, dtype: int64"
      ]
     },
     "execution_count": 14,
     "metadata": {},
     "output_type": "execute_result"
    }
   ],
   "source": [
    "# cleaning up the rating column\n",
    "# trimming extra spaces to correct errors\n",
    "df['rating'] = df['rating'].str.strip()\n",
    "# creating a dictionary to replace odd values\n",
    "rating_fix = {'UR': 'NR', 'Not Rated': 'NR', 'Unrated': 'NR', '-': 'NR',\n",
    "             'ScreamFest Horror Film Festival': 'NR', '10': np.nan}\n",
    "# using replace to apply the dictionary to the column\n",
    "df['rating'] = df['rating'].replace(rating_fix)\n",
    "# viewing the results\n",
    "df['rating'].value_counts()"
   ]
  },
  {
   "cell_type": "code",
   "execution_count": 15,
   "id": "ac1f55b2",
   "metadata": {},
   "outputs": [
    {
     "name": "stdout",
     "output_type": "stream",
     "text": [
      "imdb_id        0\n",
      "title         23\n",
      "revenue       23\n",
      "budget        23\n",
      "rating     22101\n",
      "dtype: int64\n"
     ]
    },
    {
     "data": {
      "text/plain": [
       "imdb_id    0\n",
       "title      0\n",
       "revenue    0\n",
       "budget     0\n",
       "rating     0\n",
       "dtype: int64"
      ]
     },
     "execution_count": 15,
     "metadata": {},
     "output_type": "execute_result"
    }
   ],
   "source": [
    "# drop na rows from dataframe\n",
    "print(df.isna().sum())\n",
    "# drop na\n",
    "df.dropna(inplace = True)\n",
    "# checking dataframe\n",
    "df.isna().sum()"
   ]
  },
  {
   "cell_type": "markdown",
   "id": "6f395720",
   "metadata": {},
   "source": [
    "## Question #1"
   ]
  },
  {
   "cell_type": "markdown",
   "id": "d61a7f36",
   "metadata": {},
   "source": [
    "## Does the MPAA rating of a movie affect how much revenue the movie generates?\n",
    "\n",
    "#### 1. Stating Null Hypothesis and Alternate Hypothesis:\n",
    "\n",
    "- Null Hypothesis: All movies generate similar revenue regardless of rating.\n",
    "- Alternate Hypothesis: There is a difference in movie revenue depending on rating.\n",
    "\n",
    "#### 2. Selecting the correct test according to the data type and number of samples:\n",
    "\n",
    "- The movie revenue is numeric and there are multiple groups (G, PG, PG-13, etc).\n",
    "- I will use an ANOVA test\n",
    "\n",
    "#### 3. Test the assumptions of the selected test:\n",
    "\n",
    "- The assumptions are: No significant outliers, Normality, Equal Variance\n",
    "\n",
    "#### 4. Execute the selected test, or the alternative test (if the assumptions are not met):\n",
    "\n",
    "- removed outliers from groups\n",
    "- none of the groups has a normal distribution, but they have enough samples to proceed\n",
    "- the groups do not have equal variance. Will use Kruskal-Wallis test\n",
    "\n",
    "#### 5. Interpreting the p-value (reject or fail to reject your null hypothesis):\n",
    "\n",
    "- I reject my Null Hypothesis because the p-value was less than .05 and accept my Alternative Hypothesis that there is a difference in revenue based on the different movie ratings."
   ]
  },
  {
   "cell_type": "code",
   "execution_count": 16,
   "id": "3d99df9c",
   "metadata": {},
   "outputs": [
    {
     "data": {
      "text/plain": [
       "dict_keys(['PG', 'R', 'G', 'NR', 'PG-13', 'NC-17'])"
      ]
     },
     "execution_count": 16,
     "metadata": {},
     "output_type": "execute_result"
    }
   ],
   "source": [
    "# Creating different groups for testing\n",
    "groups = {}\n",
    "# getting all movie ratings\n",
    "for n in df['rating'].unique():\n",
    "    data = df.loc[df['rating'] == n, 'revenue'].copy()\n",
    "    \n",
    "    # saving info into the groups dict\n",
    "    groups[n] = data\n",
    "# verify that all ratings are keys in the dict\n",
    "groups.keys()"
   ]
  },
  {
   "cell_type": "markdown",
   "id": "a28fc677",
   "metadata": {},
   "source": [
    "### Testing Assumptions"
   ]
  },
  {
   "cell_type": "markdown",
   "id": "b03635ba",
   "metadata": {},
   "source": [
    "#### Check and remove outliers"
   ]
  },
  {
   "cell_type": "code",
   "execution_count": 17,
   "id": "c4693474",
   "metadata": {},
   "outputs": [
    {
     "data": {
      "text/html": [
       "<div>\n",
       "<style scoped>\n",
       "    .dataframe tbody tr th:only-of-type {\n",
       "        vertical-align: middle;\n",
       "    }\n",
       "\n",
       "    .dataframe tbody tr th {\n",
       "        vertical-align: top;\n",
       "    }\n",
       "\n",
       "    .dataframe thead th {\n",
       "        text-align: right;\n",
       "    }\n",
       "</style>\n",
       "<table border=\"1\" class=\"dataframe\">\n",
       "  <thead>\n",
       "    <tr style=\"text-align: right;\">\n",
       "      <th></th>\n",
       "      <th>outliers</th>\n",
       "    </tr>\n",
       "  </thead>\n",
       "  <tbody>\n",
       "    <tr>\n",
       "      <th>PG</th>\n",
       "      <td>40</td>\n",
       "    </tr>\n",
       "    <tr>\n",
       "      <th>R</th>\n",
       "      <td>121</td>\n",
       "    </tr>\n",
       "    <tr>\n",
       "      <th>G</th>\n",
       "      <td>10</td>\n",
       "    </tr>\n",
       "    <tr>\n",
       "      <th>NR</th>\n",
       "      <td>29</td>\n",
       "    </tr>\n",
       "    <tr>\n",
       "      <th>PG-13</th>\n",
       "      <td>89</td>\n",
       "    </tr>\n",
       "    <tr>\n",
       "      <th>NC-17</th>\n",
       "      <td>2</td>\n",
       "    </tr>\n",
       "  </tbody>\n",
       "</table>\n",
       "</div>"
      ],
      "text/plain": [
       "       outliers\n",
       "PG           40\n",
       "R           121\n",
       "G            10\n",
       "NR           29\n",
       "PG-13        89\n",
       "NC-17         2"
      ]
     },
     "execution_count": 17,
     "metadata": {},
     "output_type": "execute_result"
    }
   ],
   "source": [
    "# checking z scores for outliers\n",
    "zscore_results = {}\n",
    "\n",
    "for k, data in groups.items():\n",
    "    zscores = stats.zscore(data)\n",
    "    outliers = abs(zscores) > 3\n",
    "    \n",
    "    # outliers to a dictionary\n",
    "    zscore_results[k] = {'outliers': np.sum(outliers)}\n",
    "    \n",
    "# creating a dataframe from the dictionary\n",
    "zscore_results_df = pd.DataFrame(zscore_results).T\n",
    "zscore_results_df"
   ]
  },
  {
   "cell_type": "code",
   "execution_count": 18,
   "id": "eb4dd979",
   "metadata": {},
   "outputs": [],
   "source": [
    "# removing outliers from the groups\n",
    "# loop through all groups and drop outliers\n",
    "for i, data in groups.items():\n",
    "\n",
    "    # taking out the outliers\n",
    "    data = data[(np.abs(stats.zscore(data)) < 3)] \n",
    "    \n",
    "    # saving updated data\n",
    "    groups[i] = data"
   ]
  },
  {
   "cell_type": "markdown",
   "id": "8177ebef",
   "metadata": {},
   "source": [
    "#### Assumption of Normality"
   ]
  },
  {
   "cell_type": "code",
   "execution_count": 19,
   "id": "15b4fa90",
   "metadata": {},
   "outputs": [
    {
     "data": {
      "text/html": [
       "<div>\n",
       "<style scoped>\n",
       "    .dataframe tbody tr th:only-of-type {\n",
       "        vertical-align: middle;\n",
       "    }\n",
       "\n",
       "    .dataframe tbody tr th {\n",
       "        vertical-align: top;\n",
       "    }\n",
       "\n",
       "    .dataframe thead th {\n",
       "        text-align: right;\n",
       "    }\n",
       "</style>\n",
       "<table border=\"1\" class=\"dataframe\">\n",
       "  <thead>\n",
       "    <tr style=\"text-align: right;\">\n",
       "      <th></th>\n",
       "      <th>n</th>\n",
       "      <th>p</th>\n",
       "      <th>test stat</th>\n",
       "      <th>sig</th>\n",
       "    </tr>\n",
       "  </thead>\n",
       "  <tbody>\n",
       "    <tr>\n",
       "      <th>PG</th>\n",
       "      <td>1431.0</td>\n",
       "      <td>1.646308e-192</td>\n",
       "      <td>883.195606</td>\n",
       "      <td>True</td>\n",
       "    </tr>\n",
       "    <tr>\n",
       "      <th>R</th>\n",
       "      <td>6145.0</td>\n",
       "      <td>0.000000e+00</td>\n",
       "      <td>4652.404221</td>\n",
       "      <td>True</td>\n",
       "    </tr>\n",
       "    <tr>\n",
       "      <th>G</th>\n",
       "      <td>439.0</td>\n",
       "      <td>1.836216e-79</td>\n",
       "      <td>362.593031</td>\n",
       "      <td>True</td>\n",
       "    </tr>\n",
       "    <tr>\n",
       "      <th>NR</th>\n",
       "      <td>3345.0</td>\n",
       "      <td>0.000000e+00</td>\n",
       "      <td>5597.591002</td>\n",
       "      <td>True</td>\n",
       "    </tr>\n",
       "    <tr>\n",
       "      <th>PG-13</th>\n",
       "      <td>3217.0</td>\n",
       "      <td>0.000000e+00</td>\n",
       "      <td>2094.885241</td>\n",
       "      <td>True</td>\n",
       "    </tr>\n",
       "    <tr>\n",
       "      <th>NC-17</th>\n",
       "      <td>159.0</td>\n",
       "      <td>5.832796e-46</td>\n",
       "      <td>208.310835</td>\n",
       "      <td>True</td>\n",
       "    </tr>\n",
       "  </tbody>\n",
       "</table>\n",
       "</div>"
      ],
      "text/plain": [
       "            n              p    test stat   sig\n",
       "PG     1431.0  1.646308e-192   883.195606  True\n",
       "R      6145.0   0.000000e+00  4652.404221  True\n",
       "G       439.0   1.836216e-79   362.593031  True\n",
       "NR     3345.0   0.000000e+00  5597.591002  True\n",
       "PG-13  3217.0   0.000000e+00  2094.885241  True\n",
       "NC-17   159.0   5.832796e-46   208.310835  True"
      ]
     },
     "execution_count": 19,
     "metadata": {},
     "output_type": "execute_result"
    }
   ],
   "source": [
    "# completing a normal test on all groups\n",
    "normal_results = {}\n",
    "for i, data in groups.items():\n",
    "    stat, p = stats.normaltest(data)\n",
    "    normal_results[i] = {'n': len(data), 'p':p, 'test stat': stat}\n",
    "    \n",
    "# view the normal results in a dataframe\n",
    "normal_results_df = pd.DataFrame(normal_results).T\n",
    "# adding a columns for significant results\n",
    "normal_results_df['sig'] = normal_results_df['p'] < .05\n",
    "normal_results_df"
   ]
  },
  {
   "cell_type": "markdown",
   "id": "a5fc4f6d",
   "metadata": {},
   "source": [
    "All ratings have p-values below 0.05 meaning that I should reject the hypothesis that they are normal. Because all of the ratings have sample sizes larger than 15, I can move on with testing."
   ]
  },
  {
   "cell_type": "markdown",
   "id": "bd161262",
   "metadata": {},
   "source": [
    "#### Assumption of Equal Variance"
   ]
  },
  {
   "cell_type": "code",
   "execution_count": 20,
   "id": "64fa9bda",
   "metadata": {},
   "outputs": [
    {
     "data": {
      "text/plain": [
       "LeveneResult(statistic=293.57452056691324, pvalue=1.8585839529333962e-300)"
      ]
     },
     "execution_count": 20,
     "metadata": {},
     "output_type": "execute_result"
    }
   ],
   "source": [
    "# using the Levene test to check equal variance\n",
    "stats.levene(*groups.values())"
   ]
  },
  {
   "cell_type": "markdown",
   "id": "3a259b71",
   "metadata": {},
   "source": [
    "The p-value is below 0.05 and I will reject the hypothesis that the groups have equal variance. Because they do not have equal variance I will use the Kruskal-Wallis test."
   ]
  },
  {
   "cell_type": "markdown",
   "id": "09196ac6",
   "metadata": {},
   "source": [
    "### Final Test"
   ]
  },
  {
   "cell_type": "code",
   "execution_count": 21,
   "id": "eaaf6942",
   "metadata": {},
   "outputs": [
    {
     "data": {
      "text/plain": [
       "KruskalResult(statistic=1879.0096566250747, pvalue=0.0)"
      ]
     },
     "execution_count": 21,
     "metadata": {},
     "output_type": "execute_result"
    }
   ],
   "source": [
    "# using Kruskal-Wallis test\n",
    "result = stats.kruskal(*groups.values())\n",
    "result"
   ]
  },
  {
   "cell_type": "markdown",
   "id": "2faa204a",
   "metadata": {},
   "source": [
    "With a p-value below 0.05 I reject my Null Hypothesis that there is no difference in revenue generated by movies with different ratings. I will accept the Alternative Hypothesis that there is a difference in revenue generated by movie ratings."
   ]
  },
  {
   "cell_type": "markdown",
   "id": "c98790af",
   "metadata": {},
   "source": [
    "### Visualization to support finding"
   ]
  },
  {
   "cell_type": "code",
   "execution_count": 22,
   "id": "b084618f",
   "metadata": {},
   "outputs": [
    {
     "data": {
      "text/plain": [
       "rating\n",
       "G        3.441080e+07\n",
       "NC-17    1.133560e+06\n",
       "NR       1.838002e+06\n",
       "PG       6.775942e+07\n",
       "PG-13    7.279976e+07\n",
       "R        1.614889e+07\n",
       "Name: revenue, dtype: float64"
      ]
     },
     "execution_count": 22,
     "metadata": {},
     "output_type": "execute_result"
    },
    {
     "data": {
      "image/png": "[encoded data removed]",
      "text/plain": [
       "<Figure size 432x288 with 1 Axes>"
      ]
     },
     "metadata": {
      "needs_background": "light"
     },
     "output_type": "display_data"
    }
   ],
   "source": [
    "# visualizing the data\n",
    "sns.barplot(data = df, x = 'rating', y = 'revenue');\n",
    "# grouping rating my mean revenue\n",
    "df.groupby('rating')['revenue'].mean()"
   ]
  },
  {
   "cell_type": "markdown",
   "id": "8dd03ef0",
   "metadata": {},
   "source": [
    "### Conclusion: Question 1\n",
    "\n",
    "#### There is a significant difference between revenue generated and movie rating.\n",
    "- With a p-value of 0 it was clear that different movie ratings generate different revenue\n",
    "- Movie ratings that generate the most revenue are PG-13 and PG"
   ]
  },
  {
   "cell_type": "markdown",
   "id": "59792964",
   "metadata": {},
   "source": [
    "## Question #2"
   ]
  },
  {
   "cell_type": "markdown",
   "id": "c57ac6da",
   "metadata": {},
   "source": [
    "## Does the genre of a movie affect how much revenue the movie generates?\n",
    "\n",
    "#### 1. Stating Null Hypothesis and Alternate Hypothesis:\n",
    "\n",
    "- Null Hypothesis: All movies generate similar revenue regardless of genre.\n",
    "- Alternate Hypothesis: There is a difference in movie revenue depending on genre.\n",
    "\n",
    "#### 2. Selecting the correct test according to the data type and number of samples:\n",
    "\n",
    "- The movie revenue is numeric and there are multiple genres (Family, Adventure, Romance, etc).\n",
    "- I will use an ANOVA test\n",
    "\n",
    "#### 3. Test the assumptions of the selected test:\n",
    "\n",
    "- The assumptions are: No significant outliers, Normality, Equal Variance\n",
    "\n",
    "#### 4. Execute the selected test, or the alternative test (if the assumptions are not met):\n",
    "\n",
    "- removed outliers from groups\n",
    "- none of the groups has a normal distribution, but they have enough samples to proceed\n",
    "- the groups do not have equal variance. Will use Kruskal-Wallis test\n",
    "\n",
    "#### 5. Interpreting the p-value (reject or fail to reject your null hypothesis):\n",
    "\n",
    "- I reject my Null Hypothesis because the p-value was less than .05 and accept my Alternative Hypothesis that there is a difference in revenue based on the different movie ratings."
   ]
  },
  {
   "cell_type": "code",
   "execution_count": 23,
   "id": "a8ec389e",
   "metadata": {},
   "outputs": [
    {
     "data": {
      "text/html": [
       "<div>\n",
       "<style scoped>\n",
       "    .dataframe tbody tr th:only-of-type {\n",
       "        vertical-align: middle;\n",
       "    }\n",
       "\n",
       "    .dataframe tbody tr th {\n",
       "        vertical-align: top;\n",
       "    }\n",
       "\n",
       "    .dataframe thead th {\n",
       "        text-align: right;\n",
       "    }\n",
       "</style>\n",
       "<table border=\"1\" class=\"dataframe\">\n",
       "  <thead>\n",
       "    <tr style=\"text-align: right;\">\n",
       "      <th></th>\n",
       "      <th>tconst</th>\n",
       "      <th>titleType</th>\n",
       "      <th>primaryTitle</th>\n",
       "      <th>originalTitle</th>\n",
       "      <th>isAdult</th>\n",
       "      <th>startYear</th>\n",
       "      <th>runtimeMinutes</th>\n",
       "      <th>genres</th>\n",
       "    </tr>\n",
       "  </thead>\n",
       "  <tbody>\n",
       "    <tr>\n",
       "      <th>0</th>\n",
       "      <td>tt0035423</td>\n",
       "      <td>movie</td>\n",
       "      <td>Kate &amp; Leopold</td>\n",
       "      <td>Kate &amp; Leopold</td>\n",
       "      <td>0</td>\n",
       "      <td>2001</td>\n",
       "      <td>118</td>\n",
       "      <td>Comedy,Fantasy,Romance</td>\n",
       "    </tr>\n",
       "    <tr>\n",
       "      <th>1</th>\n",
       "      <td>tt0062336</td>\n",
       "      <td>movie</td>\n",
       "      <td>The Tango of the Widower and Its Distorting Mi...</td>\n",
       "      <td>El Tango del Viudo y Su Espejo Deformante</td>\n",
       "      <td>0</td>\n",
       "      <td>2020</td>\n",
       "      <td>70</td>\n",
       "      <td>Drama</td>\n",
       "    </tr>\n",
       "    <tr>\n",
       "      <th>2</th>\n",
       "      <td>tt0069049</td>\n",
       "      <td>movie</td>\n",
       "      <td>The Other Side of the Wind</td>\n",
       "      <td>The Other Side of the Wind</td>\n",
       "      <td>0</td>\n",
       "      <td>2018</td>\n",
       "      <td>122</td>\n",
       "      <td>Drama</td>\n",
       "    </tr>\n",
       "    <tr>\n",
       "      <th>3</th>\n",
       "      <td>tt0088751</td>\n",
       "      <td>movie</td>\n",
       "      <td>The Naked Monster</td>\n",
       "      <td>The Naked Monster</td>\n",
       "      <td>0</td>\n",
       "      <td>2005</td>\n",
       "      <td>100</td>\n",
       "      <td>Comedy,Horror,Sci-Fi</td>\n",
       "    </tr>\n",
       "    <tr>\n",
       "      <th>4</th>\n",
       "      <td>tt0093119</td>\n",
       "      <td>movie</td>\n",
       "      <td>Grizzly II: Revenge</td>\n",
       "      <td>Grizzly II: The Predator</td>\n",
       "      <td>0</td>\n",
       "      <td>2020</td>\n",
       "      <td>74</td>\n",
       "      <td>Horror,Music,Thriller</td>\n",
       "    </tr>\n",
       "  </tbody>\n",
       "</table>\n",
       "</div>"
      ],
      "text/plain": [
       "      tconst titleType                                       primaryTitle  \\\n",
       "0  tt0035423     movie                                     Kate & Leopold   \n",
       "1  tt0062336     movie  The Tango of the Widower and Its Distorting Mi...   \n",
       "2  tt0069049     movie                         The Other Side of the Wind   \n",
       "3  tt0088751     movie                                  The Naked Monster   \n",
       "4  tt0093119     movie                                Grizzly II: Revenge   \n",
       "\n",
       "                               originalTitle  isAdult  startYear  \\\n",
       "0                             Kate & Leopold        0       2001   \n",
       "1  El Tango del Viudo y Su Espejo Deformante        0       2020   \n",
       "2                 The Other Side of the Wind        0       2018   \n",
       "3                          The Naked Monster        0       2005   \n",
       "4                   Grizzly II: The Predator        0       2020   \n",
       "\n",
       "   runtimeMinutes                  genres  \n",
       "0             118  Comedy,Fantasy,Romance  \n",
       "1              70                   Drama  \n",
       "2             122                   Drama  \n",
       "3             100    Comedy,Horror,Sci-Fi  \n",
       "4              74   Horror,Music,Thriller  "
      ]
     },
     "execution_count": 23,
     "metadata": {},
     "output_type": "execute_result"
    }
   ],
   "source": [
    "basics = pd.read_csv('Data/basics.csv.gz')\n",
    "basics.head()"
   ]
  },
  {
   "cell_type": "code",
   "execution_count": 24,
   "id": "27dd6297",
   "metadata": {},
   "outputs": [
    {
     "data": {
      "text/html": [
       "<div>\n",
       "<style scoped>\n",
       "    .dataframe tbody tr th:only-of-type {\n",
       "        vertical-align: middle;\n",
       "    }\n",
       "\n",
       "    .dataframe tbody tr th {\n",
       "        vertical-align: top;\n",
       "    }\n",
       "\n",
       "    .dataframe thead th {\n",
       "        text-align: right;\n",
       "    }\n",
       "</style>\n",
       "<table border=\"1\" class=\"dataframe\">\n",
       "  <thead>\n",
       "    <tr style=\"text-align: right;\">\n",
       "      <th></th>\n",
       "      <th>imdb_id</th>\n",
       "      <th>title</th>\n",
       "      <th>revenue</th>\n",
       "      <th>budget</th>\n",
       "      <th>rating</th>\n",
       "      <th>tconst</th>\n",
       "      <th>genres</th>\n",
       "    </tr>\n",
       "  </thead>\n",
       "  <tbody>\n",
       "    <tr>\n",
       "      <th>0</th>\n",
       "      <td>tt0118694</td>\n",
       "      <td>In the Mood for Love</td>\n",
       "      <td>12854953.0</td>\n",
       "      <td>150000.0</td>\n",
       "      <td>PG</td>\n",
       "      <td>tt0118694</td>\n",
       "      <td>Drama,Romance</td>\n",
       "    </tr>\n",
       "    <tr>\n",
       "      <th>1</th>\n",
       "      <td>tt0118852</td>\n",
       "      <td>Chinese Coffee</td>\n",
       "      <td>0.0</td>\n",
       "      <td>0.0</td>\n",
       "      <td>R</td>\n",
       "      <td>tt0118852</td>\n",
       "      <td>Drama</td>\n",
       "    </tr>\n",
       "    <tr>\n",
       "      <th>2</th>\n",
       "      <td>tt0119273</td>\n",
       "      <td>Heavy Metal 2000</td>\n",
       "      <td>0.0</td>\n",
       "      <td>15000000.0</td>\n",
       "      <td>R</td>\n",
       "      <td>tt0119273</td>\n",
       "      <td>Action,Adventure,Animation</td>\n",
       "    </tr>\n",
       "    <tr>\n",
       "      <th>3</th>\n",
       "      <td>tt0119495</td>\n",
       "      <td>Love 101</td>\n",
       "      <td>0.0</td>\n",
       "      <td>0.0</td>\n",
       "      <td>R</td>\n",
       "      <td>tt0119495</td>\n",
       "      <td>Comedy,Drama,Romance</td>\n",
       "    </tr>\n",
       "    <tr>\n",
       "      <th>4</th>\n",
       "      <td>tt0120467</td>\n",
       "      <td>Vulgar</td>\n",
       "      <td>14904.0</td>\n",
       "      <td>120000.0</td>\n",
       "      <td>R</td>\n",
       "      <td>tt0120467</td>\n",
       "      <td>Crime,Drama,Thriller</td>\n",
       "    </tr>\n",
       "  </tbody>\n",
       "</table>\n",
       "</div>"
      ],
      "text/plain": [
       "     imdb_id                 title     revenue      budget rating     tconst  \\\n",
       "0  tt0118694  In the Mood for Love  12854953.0    150000.0     PG  tt0118694   \n",
       "1  tt0118852        Chinese Coffee         0.0         0.0      R  tt0118852   \n",
       "2  tt0119273      Heavy Metal 2000         0.0  15000000.0      R  tt0119273   \n",
       "3  tt0119495              Love 101         0.0         0.0      R  tt0119495   \n",
       "4  tt0120467                Vulgar     14904.0    120000.0      R  tt0120467   \n",
       "\n",
       "                       genres  \n",
       "0               Drama,Romance  \n",
       "1                       Drama  \n",
       "2  Action,Adventure,Animation  \n",
       "3        Comedy,Drama,Romance  \n",
       "4        Crime,Drama,Thriller  "
      ]
     },
     "execution_count": 24,
     "metadata": {},
     "output_type": "execute_result"
    }
   ],
   "source": [
    "basics_cols_transfer = ['tconst', 'genres']\n",
    "\n",
    "q2_df = pd.merge(df, basics[basics_cols_transfer], left_on = ['imdb_id'], right_on=['tconst'])\n",
    "q2_df.head()"
   ]
  },
  {
   "cell_type": "code",
   "execution_count": 25,
   "id": "840ca7ee",
   "metadata": {},
   "outputs": [
    {
     "data": {
      "text/html": [
       "<div>\n",
       "<style scoped>\n",
       "    .dataframe tbody tr th:only-of-type {\n",
       "        vertical-align: middle;\n",
       "    }\n",
       "\n",
       "    .dataframe tbody tr th {\n",
       "        vertical-align: top;\n",
       "    }\n",
       "\n",
       "    .dataframe thead th {\n",
       "        text-align: right;\n",
       "    }\n",
       "</style>\n",
       "<table border=\"1\" class=\"dataframe\">\n",
       "  <thead>\n",
       "    <tr style=\"text-align: right;\">\n",
       "      <th></th>\n",
       "      <th>imdb_id</th>\n",
       "      <th>title</th>\n",
       "      <th>revenue</th>\n",
       "      <th>budget</th>\n",
       "      <th>rating</th>\n",
       "      <th>tconst</th>\n",
       "      <th>genres</th>\n",
       "      <th>genres_split</th>\n",
       "    </tr>\n",
       "  </thead>\n",
       "  <tbody>\n",
       "    <tr>\n",
       "      <th>0</th>\n",
       "      <td>tt0118694</td>\n",
       "      <td>In the Mood for Love</td>\n",
       "      <td>12854953.0</td>\n",
       "      <td>150000.0</td>\n",
       "      <td>PG</td>\n",
       "      <td>tt0118694</td>\n",
       "      <td>Drama,Romance</td>\n",
       "      <td>[Drama, Romance]</td>\n",
       "    </tr>\n",
       "    <tr>\n",
       "      <th>1</th>\n",
       "      <td>tt0118852</td>\n",
       "      <td>Chinese Coffee</td>\n",
       "      <td>0.0</td>\n",
       "      <td>0.0</td>\n",
       "      <td>R</td>\n",
       "      <td>tt0118852</td>\n",
       "      <td>Drama</td>\n",
       "      <td>[Drama]</td>\n",
       "    </tr>\n",
       "    <tr>\n",
       "      <th>2</th>\n",
       "      <td>tt0119273</td>\n",
       "      <td>Heavy Metal 2000</td>\n",
       "      <td>0.0</td>\n",
       "      <td>15000000.0</td>\n",
       "      <td>R</td>\n",
       "      <td>tt0119273</td>\n",
       "      <td>Action,Adventure,Animation</td>\n",
       "      <td>[Action, Adventure, Animation]</td>\n",
       "    </tr>\n",
       "    <tr>\n",
       "      <th>3</th>\n",
       "      <td>tt0119495</td>\n",
       "      <td>Love 101</td>\n",
       "      <td>0.0</td>\n",
       "      <td>0.0</td>\n",
       "      <td>R</td>\n",
       "      <td>tt0119495</td>\n",
       "      <td>Comedy,Drama,Romance</td>\n",
       "      <td>[Comedy, Drama, Romance]</td>\n",
       "    </tr>\n",
       "    <tr>\n",
       "      <th>4</th>\n",
       "      <td>tt0120467</td>\n",
       "      <td>Vulgar</td>\n",
       "      <td>14904.0</td>\n",
       "      <td>120000.0</td>\n",
       "      <td>R</td>\n",
       "      <td>tt0120467</td>\n",
       "      <td>Crime,Drama,Thriller</td>\n",
       "      <td>[Crime, Drama, Thriller]</td>\n",
       "    </tr>\n",
       "  </tbody>\n",
       "</table>\n",
       "</div>"
      ],
      "text/plain": [
       "     imdb_id                 title     revenue      budget rating     tconst  \\\n",
       "0  tt0118694  In the Mood for Love  12854953.0    150000.0     PG  tt0118694   \n",
       "1  tt0118852        Chinese Coffee         0.0         0.0      R  tt0118852   \n",
       "2  tt0119273      Heavy Metal 2000         0.0  15000000.0      R  tt0119273   \n",
       "3  tt0119495              Love 101         0.0         0.0      R  tt0119495   \n",
       "4  tt0120467                Vulgar     14904.0    120000.0      R  tt0120467   \n",
       "\n",
       "                       genres                    genres_split  \n",
       "0               Drama,Romance                [Drama, Romance]  \n",
       "1                       Drama                         [Drama]  \n",
       "2  Action,Adventure,Animation  [Action, Adventure, Animation]  \n",
       "3        Comedy,Drama,Romance        [Comedy, Drama, Romance]  \n",
       "4        Crime,Drama,Thriller        [Crime, Drama, Thriller]  "
      ]
     },
     "execution_count": 25,
     "metadata": {},
     "output_type": "execute_result"
    }
   ],
   "source": [
    "# creating lists of the genres\n",
    "q2_df['genres_split'] = q2_df['genres'].str.split(',')\n",
    "q2_df.head()"
   ]
  },
  {
   "cell_type": "code",
   "execution_count": 26,
   "id": "d89e7a6b",
   "metadata": {},
   "outputs": [
    {
     "data": {
      "text/html": [
       "<div>\n",
       "<style scoped>\n",
       "    .dataframe tbody tr th:only-of-type {\n",
       "        vertical-align: middle;\n",
       "    }\n",
       "\n",
       "    .dataframe tbody tr th {\n",
       "        vertical-align: top;\n",
       "    }\n",
       "\n",
       "    .dataframe thead th {\n",
       "        text-align: right;\n",
       "    }\n",
       "</style>\n",
       "<table border=\"1\" class=\"dataframe\">\n",
       "  <thead>\n",
       "    <tr style=\"text-align: right;\">\n",
       "      <th></th>\n",
       "      <th>imdb_id</th>\n",
       "      <th>title</th>\n",
       "      <th>revenue</th>\n",
       "      <th>budget</th>\n",
       "      <th>rating</th>\n",
       "      <th>tconst</th>\n",
       "      <th>genres</th>\n",
       "      <th>genres_split</th>\n",
       "    </tr>\n",
       "  </thead>\n",
       "  <tbody>\n",
       "    <tr>\n",
       "      <th>0</th>\n",
       "      <td>tt0118694</td>\n",
       "      <td>In the Mood for Love</td>\n",
       "      <td>12854953.0</td>\n",
       "      <td>150000.0</td>\n",
       "      <td>PG</td>\n",
       "      <td>tt0118694</td>\n",
       "      <td>Drama,Romance</td>\n",
       "      <td>Drama</td>\n",
       "    </tr>\n",
       "    <tr>\n",
       "      <th>0</th>\n",
       "      <td>tt0118694</td>\n",
       "      <td>In the Mood for Love</td>\n",
       "      <td>12854953.0</td>\n",
       "      <td>150000.0</td>\n",
       "      <td>PG</td>\n",
       "      <td>tt0118694</td>\n",
       "      <td>Drama,Romance</td>\n",
       "      <td>Romance</td>\n",
       "    </tr>\n",
       "    <tr>\n",
       "      <th>1</th>\n",
       "      <td>tt0118852</td>\n",
       "      <td>Chinese Coffee</td>\n",
       "      <td>0.0</td>\n",
       "      <td>0.0</td>\n",
       "      <td>R</td>\n",
       "      <td>tt0118852</td>\n",
       "      <td>Drama</td>\n",
       "      <td>Drama</td>\n",
       "    </tr>\n",
       "    <tr>\n",
       "      <th>2</th>\n",
       "      <td>tt0119273</td>\n",
       "      <td>Heavy Metal 2000</td>\n",
       "      <td>0.0</td>\n",
       "      <td>15000000.0</td>\n",
       "      <td>R</td>\n",
       "      <td>tt0119273</td>\n",
       "      <td>Action,Adventure,Animation</td>\n",
       "      <td>Action</td>\n",
       "    </tr>\n",
       "    <tr>\n",
       "      <th>2</th>\n",
       "      <td>tt0119273</td>\n",
       "      <td>Heavy Metal 2000</td>\n",
       "      <td>0.0</td>\n",
       "      <td>15000000.0</td>\n",
       "      <td>R</td>\n",
       "      <td>tt0119273</td>\n",
       "      <td>Action,Adventure,Animation</td>\n",
       "      <td>Adventure</td>\n",
       "    </tr>\n",
       "  </tbody>\n",
       "</table>\n",
       "</div>"
      ],
      "text/plain": [
       "     imdb_id                 title     revenue      budget rating     tconst  \\\n",
       "0  tt0118694  In the Mood for Love  12854953.0    150000.0     PG  tt0118694   \n",
       "0  tt0118694  In the Mood for Love  12854953.0    150000.0     PG  tt0118694   \n",
       "1  tt0118852        Chinese Coffee         0.0         0.0      R  tt0118852   \n",
       "2  tt0119273      Heavy Metal 2000         0.0  15000000.0      R  tt0119273   \n",
       "2  tt0119273      Heavy Metal 2000         0.0  15000000.0      R  tt0119273   \n",
       "\n",
       "                       genres genres_split  \n",
       "0               Drama,Romance        Drama  \n",
       "0               Drama,Romance      Romance  \n",
       "1                       Drama        Drama  \n",
       "2  Action,Adventure,Animation       Action  \n",
       "2  Action,Adventure,Animation    Adventure  "
      ]
     },
     "execution_count": 26,
     "metadata": {},
     "output_type": "execute_result"
    }
   ],
   "source": [
    "# exploding the genres to separate all unique values\n",
    "exploded_genres = q2_df.explode('genres_split')\n",
    "exploded_genres.head()"
   ]
  },
  {
   "cell_type": "code",
   "execution_count": 27,
   "id": "3cac1229",
   "metadata": {},
   "outputs": [
    {
     "data": {
      "text/plain": [
       "Drama         7408\n",
       "Comedy        4902\n",
       "Action        3006\n",
       "Thriller      2943\n",
       "Horror        2750\n",
       "Crime         2078\n",
       "Romance       2068\n",
       "Adventure     1955\n",
       "Mystery       1227\n",
       "Animation      937\n",
       "Sci-Fi         931\n",
       "Family         906\n",
       "Fantasy        887\n",
       "Biography      618\n",
       "Music          350\n",
       "History        336\n",
       "Sport          293\n",
       "War            172\n",
       "Musical        150\n",
       "Western        131\n",
       "Adult           45\n",
       "Reality-TV       3\n",
       "Name: genres_split, dtype: int64"
      ]
     },
     "execution_count": 27,
     "metadata": {},
     "output_type": "execute_result"
    }
   ],
   "source": [
    "# finding number of movies per genre\n",
    "exploded_genres['genres_split'].value_counts()"
   ]
  },
  {
   "cell_type": "code",
   "execution_count": 28,
   "id": "eb51a88c",
   "metadata": {},
   "outputs": [],
   "source": [
    "# genre of reality-tv only has 3 samples and will not meet the size requirement.\n",
    "# these rows will be dropped\n",
    "exploded_genres = exploded_genres[exploded_genres['genres_split'] != 'Reality-TV']\n",
    "exploded_genres = exploded_genres[exploded_genres['genres_split'] != 'Adult']"
   ]
  },
  {
   "cell_type": "code",
   "execution_count": 29,
   "id": "c64849dc",
   "metadata": {},
   "outputs": [
    {
     "data": {
      "text/plain": [
       "dict_keys(['Drama', 'Romance', 'Action', 'Adventure', 'Animation', 'Comedy', 'Crime', 'Thriller', 'Family', 'Musical', 'Mystery', 'Sci-Fi', 'Fantasy', 'Horror', 'Music', 'War', 'History', 'Sport', 'Western', 'Biography'])"
      ]
     },
     "execution_count": 29,
     "metadata": {},
     "output_type": "execute_result"
    }
   ],
   "source": [
    "# Creating different groups for testing\n",
    "groups = {}\n",
    "# getting all movie ratings\n",
    "for n in exploded_genres['genres_split'].unique():\n",
    "    data = exploded_genres.loc[exploded_genres['genres_split'] == n, 'revenue'].copy()\n",
    "    \n",
    "    # saving info into the groups dict\n",
    "    groups[n] = data\n",
    "# verify that all ratings are keys in the dict\n",
    "groups.keys()"
   ]
  },
  {
   "cell_type": "markdown",
   "id": "ea16088e",
   "metadata": {},
   "source": [
    "### Testing Assumptions"
   ]
  },
  {
   "cell_type": "markdown",
   "id": "09047664",
   "metadata": {},
   "source": [
    "#### Checking for Outliers"
   ]
  },
  {
   "cell_type": "code",
   "execution_count": 30,
   "id": "baf41e8b",
   "metadata": {},
   "outputs": [
    {
     "data": {
      "text/html": [
       "<div>\n",
       "<style scoped>\n",
       "    .dataframe tbody tr th:only-of-type {\n",
       "        vertical-align: middle;\n",
       "    }\n",
       "\n",
       "    .dataframe tbody tr th {\n",
       "        vertical-align: top;\n",
       "    }\n",
       "\n",
       "    .dataframe thead th {\n",
       "        text-align: right;\n",
       "    }\n",
       "</style>\n",
       "<table border=\"1\" class=\"dataframe\">\n",
       "  <thead>\n",
       "    <tr style=\"text-align: right;\">\n",
       "      <th></th>\n",
       "      <th>outliers</th>\n",
       "    </tr>\n",
       "  </thead>\n",
       "  <tbody>\n",
       "    <tr>\n",
       "      <th>Drama</th>\n",
       "      <td>103</td>\n",
       "    </tr>\n",
       "    <tr>\n",
       "      <th>Romance</th>\n",
       "      <td>52</td>\n",
       "    </tr>\n",
       "    <tr>\n",
       "      <th>Action</th>\n",
       "      <td>79</td>\n",
       "    </tr>\n",
       "    <tr>\n",
       "      <th>Adventure</th>\n",
       "      <td>50</td>\n",
       "    </tr>\n",
       "    <tr>\n",
       "      <th>Animation</th>\n",
       "      <td>25</td>\n",
       "    </tr>\n",
       "    <tr>\n",
       "      <th>Comedy</th>\n",
       "      <td>105</td>\n",
       "    </tr>\n",
       "    <tr>\n",
       "      <th>Crime</th>\n",
       "      <td>31</td>\n",
       "    </tr>\n",
       "    <tr>\n",
       "      <th>Thriller</th>\n",
       "      <td>57</td>\n",
       "    </tr>\n",
       "    <tr>\n",
       "      <th>Family</th>\n",
       "      <td>21</td>\n",
       "    </tr>\n",
       "    <tr>\n",
       "      <th>Musical</th>\n",
       "      <td>5</td>\n",
       "    </tr>\n",
       "    <tr>\n",
       "      <th>Mystery</th>\n",
       "      <td>26</td>\n",
       "    </tr>\n",
       "    <tr>\n",
       "      <th>Sci-Fi</th>\n",
       "      <td>25</td>\n",
       "    </tr>\n",
       "    <tr>\n",
       "      <th>Fantasy</th>\n",
       "      <td>28</td>\n",
       "    </tr>\n",
       "    <tr>\n",
       "      <th>Horror</th>\n",
       "      <td>59</td>\n",
       "    </tr>\n",
       "    <tr>\n",
       "      <th>Music</th>\n",
       "      <td>5</td>\n",
       "    </tr>\n",
       "    <tr>\n",
       "      <th>War</th>\n",
       "      <td>5</td>\n",
       "    </tr>\n",
       "    <tr>\n",
       "      <th>History</th>\n",
       "      <td>6</td>\n",
       "    </tr>\n",
       "    <tr>\n",
       "      <th>Sport</th>\n",
       "      <td>9</td>\n",
       "    </tr>\n",
       "    <tr>\n",
       "      <th>Western</th>\n",
       "      <td>4</td>\n",
       "    </tr>\n",
       "    <tr>\n",
       "      <th>Biography</th>\n",
       "      <td>12</td>\n",
       "    </tr>\n",
       "  </tbody>\n",
       "</table>\n",
       "</div>"
      ],
      "text/plain": [
       "           outliers\n",
       "Drama           103\n",
       "Romance          52\n",
       "Action           79\n",
       "Adventure        50\n",
       "Animation        25\n",
       "Comedy          105\n",
       "Crime            31\n",
       "Thriller         57\n",
       "Family           21\n",
       "Musical           5\n",
       "Mystery          26\n",
       "Sci-Fi           25\n",
       "Fantasy          28\n",
       "Horror           59\n",
       "Music             5\n",
       "War               5\n",
       "History           6\n",
       "Sport             9\n",
       "Western           4\n",
       "Biography        12"
      ]
     },
     "execution_count": 30,
     "metadata": {},
     "output_type": "execute_result"
    }
   ],
   "source": [
    "# checking z scores for outliers\n",
    "zscore_results = {}\n",
    "\n",
    "for k, data in groups.items():\n",
    "    zscores = stats.zscore(data)\n",
    "    outliers = abs(zscores) > 3\n",
    "    \n",
    "    # outliers to a dictionary\n",
    "    zscore_results[k] = {'outliers': np.sum(outliers)}\n",
    "    \n",
    "# creating a dataframe from the dictionary\n",
    "zscore_results_df = pd.DataFrame(zscore_results).T\n",
    "zscore_results_df"
   ]
  },
  {
   "cell_type": "code",
   "execution_count": 31,
   "id": "0bdb76cf",
   "metadata": {},
   "outputs": [],
   "source": [
    "# removing outliers from the groups\n",
    "for i, data in groups.items():\n",
    "\n",
    "    # taking out the outliers\n",
    "    data = data[(np.abs(stats.zscore(data)) < 3)] \n",
    "    \n",
    "    # saving updated data\n",
    "    groups[i] = data"
   ]
  },
  {
   "cell_type": "markdown",
   "id": "f2c52c45",
   "metadata": {},
   "source": [
    "#### Assumption of Normality"
   ]
  },
  {
   "cell_type": "code",
   "execution_count": 32,
   "id": "9e45e3e4",
   "metadata": {},
   "outputs": [
    {
     "data": {
      "text/html": [
       "<div>\n",
       "<style scoped>\n",
       "    .dataframe tbody tr th:only-of-type {\n",
       "        vertical-align: middle;\n",
       "    }\n",
       "\n",
       "    .dataframe tbody tr th {\n",
       "        vertical-align: top;\n",
       "    }\n",
       "\n",
       "    .dataframe thead th {\n",
       "        text-align: right;\n",
       "    }\n",
       "</style>\n",
       "<table border=\"1\" class=\"dataframe\">\n",
       "  <thead>\n",
       "    <tr style=\"text-align: right;\">\n",
       "      <th></th>\n",
       "      <th>n</th>\n",
       "      <th>p</th>\n",
       "      <th>test stat</th>\n",
       "      <th>sig</th>\n",
       "    </tr>\n",
       "  </thead>\n",
       "  <tbody>\n",
       "    <tr>\n",
       "      <th>Drama</th>\n",
       "      <td>7305.0</td>\n",
       "      <td>0.000000e+00</td>\n",
       "      <td>5961.004408</td>\n",
       "      <td>True</td>\n",
       "    </tr>\n",
       "    <tr>\n",
       "      <th>Romance</th>\n",
       "      <td>2016.0</td>\n",
       "      <td>8.240825e-282</td>\n",
       "      <td>1294.439792</td>\n",
       "      <td>True</td>\n",
       "    </tr>\n",
       "    <tr>\n",
       "      <th>Action</th>\n",
       "      <td>2927.0</td>\n",
       "      <td>0.000000e+00</td>\n",
       "      <td>1867.631328</td>\n",
       "      <td>True</td>\n",
       "    </tr>\n",
       "    <tr>\n",
       "      <th>Adventure</th>\n",
       "      <td>1905.0</td>\n",
       "      <td>1.133205e-197</td>\n",
       "      <td>906.968427</td>\n",
       "      <td>True</td>\n",
       "    </tr>\n",
       "    <tr>\n",
       "      <th>Animation</th>\n",
       "      <td>912.0</td>\n",
       "      <td>2.430908e-118</td>\n",
       "      <td>541.633552</td>\n",
       "      <td>True</td>\n",
       "    </tr>\n",
       "    <tr>\n",
       "      <th>Comedy</th>\n",
       "      <td>4797.0</td>\n",
       "      <td>0.000000e+00</td>\n",
       "      <td>3306.216950</td>\n",
       "      <td>True</td>\n",
       "    </tr>\n",
       "    <tr>\n",
       "      <th>Crime</th>\n",
       "      <td>2047.0</td>\n",
       "      <td>2.174946e-290</td>\n",
       "      <td>1333.945347</td>\n",
       "      <td>True</td>\n",
       "    </tr>\n",
       "    <tr>\n",
       "      <th>Thriller</th>\n",
       "      <td>2886.0</td>\n",
       "      <td>0.000000e+00</td>\n",
       "      <td>2414.298954</td>\n",
       "      <td>True</td>\n",
       "    </tr>\n",
       "    <tr>\n",
       "      <th>Family</th>\n",
       "      <td>885.0</td>\n",
       "      <td>1.393060e-143</td>\n",
       "      <td>657.876331</td>\n",
       "      <td>True</td>\n",
       "    </tr>\n",
       "    <tr>\n",
       "      <th>Musical</th>\n",
       "      <td>145.0</td>\n",
       "      <td>1.642519e-29</td>\n",
       "      <td>132.557473</td>\n",
       "      <td>True</td>\n",
       "    </tr>\n",
       "    <tr>\n",
       "      <th>Mystery</th>\n",
       "      <td>1201.0</td>\n",
       "      <td>4.498703e-170</td>\n",
       "      <td>779.871353</td>\n",
       "      <td>True</td>\n",
       "    </tr>\n",
       "    <tr>\n",
       "      <th>Sci-Fi</th>\n",
       "      <td>906.0</td>\n",
       "      <td>1.003222e-131</td>\n",
       "      <td>603.270860</td>\n",
       "      <td>True</td>\n",
       "    </tr>\n",
       "    <tr>\n",
       "      <th>Fantasy</th>\n",
       "      <td>859.0</td>\n",
       "      <td>7.528953e-144</td>\n",
       "      <td>659.106995</td>\n",
       "      <td>True</td>\n",
       "    </tr>\n",
       "    <tr>\n",
       "      <th>Horror</th>\n",
       "      <td>2691.0</td>\n",
       "      <td>0.000000e+00</td>\n",
       "      <td>2281.842926</td>\n",
       "      <td>True</td>\n",
       "    </tr>\n",
       "    <tr>\n",
       "      <th>Music</th>\n",
       "      <td>345.0</td>\n",
       "      <td>4.472703e-51</td>\n",
       "      <td>231.867694</td>\n",
       "      <td>True</td>\n",
       "    </tr>\n",
       "    <tr>\n",
       "      <th>War</th>\n",
       "      <td>167.0</td>\n",
       "      <td>1.366490e-35</td>\n",
       "      <td>160.556466</td>\n",
       "      <td>True</td>\n",
       "    </tr>\n",
       "    <tr>\n",
       "      <th>History</th>\n",
       "      <td>330.0</td>\n",
       "      <td>1.476464e-49</td>\n",
       "      <td>224.874039</td>\n",
       "      <td>True</td>\n",
       "    </tr>\n",
       "    <tr>\n",
       "      <th>Sport</th>\n",
       "      <td>284.0</td>\n",
       "      <td>9.859661e-44</td>\n",
       "      <td>198.050585</td>\n",
       "      <td>True</td>\n",
       "    </tr>\n",
       "    <tr>\n",
       "      <th>Western</th>\n",
       "      <td>127.0</td>\n",
       "      <td>3.052822e-46</td>\n",
       "      <td>209.605696</td>\n",
       "      <td>True</td>\n",
       "    </tr>\n",
       "    <tr>\n",
       "      <th>Biography</th>\n",
       "      <td>606.0</td>\n",
       "      <td>3.939066e-78</td>\n",
       "      <td>356.461387</td>\n",
       "      <td>True</td>\n",
       "    </tr>\n",
       "  </tbody>\n",
       "</table>\n",
       "</div>"
      ],
      "text/plain": [
       "                n              p    test stat   sig\n",
       "Drama      7305.0   0.000000e+00  5961.004408  True\n",
       "Romance    2016.0  8.240825e-282  1294.439792  True\n",
       "Action     2927.0   0.000000e+00  1867.631328  True\n",
       "Adventure  1905.0  1.133205e-197   906.968427  True\n",
       "Animation   912.0  2.430908e-118   541.633552  True\n",
       "Comedy     4797.0   0.000000e+00  3306.216950  True\n",
       "Crime      2047.0  2.174946e-290  1333.945347  True\n",
       "Thriller   2886.0   0.000000e+00  2414.298954  True\n",
       "Family      885.0  1.393060e-143   657.876331  True\n",
       "Musical     145.0   1.642519e-29   132.557473  True\n",
       "Mystery    1201.0  4.498703e-170   779.871353  True\n",
       "Sci-Fi      906.0  1.003222e-131   603.270860  True\n",
       "Fantasy     859.0  7.528953e-144   659.106995  True\n",
       "Horror     2691.0   0.000000e+00  2281.842926  True\n",
       "Music       345.0   4.472703e-51   231.867694  True\n",
       "War         167.0   1.366490e-35   160.556466  True\n",
       "History     330.0   1.476464e-49   224.874039  True\n",
       "Sport       284.0   9.859661e-44   198.050585  True\n",
       "Western     127.0   3.052822e-46   209.605696  True\n",
       "Biography   606.0   3.939066e-78   356.461387  True"
      ]
     },
     "execution_count": 32,
     "metadata": {},
     "output_type": "execute_result"
    }
   ],
   "source": [
    "# completing a normal test on all groups\n",
    "normal_results_genres = {}\n",
    "for i, data in groups.items():\n",
    "    stat, p = stats.normaltest(data)\n",
    "    normal_results_genres[i] = {'n': len(data), 'p':p, 'test stat': stat}\n",
    "    \n",
    "# view the normal results in a dataframe\n",
    "normal_results_genres_df = pd.DataFrame(normal_results_genres).T\n",
    "# adding a columns for significant results\n",
    "normal_results_genres_df['sig'] = normal_results_genres_df['p'] < .05\n",
    "normal_results_genres_df"
   ]
  },
  {
   "cell_type": "markdown",
   "id": "e5257a48",
   "metadata": {},
   "source": [
    "All genres have p-values below 0.05 meaning that I should reject the hypothesis that they are normal. Because all of the genres have sample sizes larger than 15, I can move on with testing."
   ]
  },
  {
   "cell_type": "markdown",
   "id": "7fe6bf86",
   "metadata": {},
   "source": [
    "#### Assumption of Equal Variance"
   ]
  },
  {
   "cell_type": "code",
   "execution_count": 33,
   "id": "f55333fe",
   "metadata": {},
   "outputs": [
    {
     "data": {
      "text/plain": [
       "LeveneResult(statistic=175.46542283490572, pvalue=0.0)"
      ]
     },
     "execution_count": 33,
     "metadata": {},
     "output_type": "execute_result"
    }
   ],
   "source": [
    "# using the Levene test to check equal variance\n",
    "stats.levene(*groups.values())"
   ]
  },
  {
   "cell_type": "markdown",
   "id": "5abc062c",
   "metadata": {},
   "source": [
    "The p-value is below 0.05 and I will reject the hypothesis that the genres have equal variance. Because they do not have equal variance I will use the Kruskal-Wallis test."
   ]
  },
  {
   "cell_type": "markdown",
   "id": "f4990d24",
   "metadata": {},
   "source": [
    "### Final Test"
   ]
  },
  {
   "cell_type": "code",
   "execution_count": 34,
   "id": "0a4f2782",
   "metadata": {},
   "outputs": [
    {
     "data": {
      "text/plain": [
       "KruskalResult(statistic=1516.6626610815113, pvalue=1.16940528556364e-310)"
      ]
     },
     "execution_count": 34,
     "metadata": {},
     "output_type": "execute_result"
    }
   ],
   "source": [
    "# using Kruskal-Wallis test\n",
    "result = stats.kruskal(*groups.values())\n",
    "result"
   ]
  },
  {
   "cell_type": "markdown",
   "id": "2f727c2a",
   "metadata": {},
   "source": [
    "With a p-value below 0.05 I reject my Null Hypothesis that there is no difference in revenue generated by movies with different genres. I will accept the Alternative Hypothesis that there is a difference in revenue generated by movie genres.\n",
    "\n",
    "Adventure, Action, Animation, Fantasy and Sci-Fi have the highest earnings."
   ]
  },
  {
   "cell_type": "markdown",
   "id": "aa54413f",
   "metadata": {},
   "source": [
    "### Visualization to support findings"
   ]
  },
  {
   "cell_type": "code",
   "execution_count": 35,
   "id": "47bd6182",
   "metadata": {
    "scrolled": true
   },
   "outputs": [
    {
     "data": {
      "text/plain": [
       "genres_split\n",
       "Action       7.516433e+07\n",
       "Adventure    1.303632e+08\n",
       "Animation    7.981969e+07\n",
       "Biography    3.124282e+07\n",
       "Comedy       3.241618e+07\n",
       "Crime        2.556262e+07\n",
       "Drama        1.874949e+07\n",
       "Family       4.198679e+07\n",
       "Fantasy      7.731661e+07\n",
       "History      2.390950e+07\n",
       "Horror       1.052934e+07\n",
       "Music        2.081499e+07\n",
       "Musical      2.582388e+07\n",
       "Mystery      2.512277e+07\n",
       "Romance      2.018652e+07\n",
       "Sci-Fi       8.066936e+07\n",
       "Sport        1.383388e+07\n",
       "Thriller     2.071983e+07\n",
       "War          1.571318e+07\n",
       "Western      1.028121e+07\n",
       "Name: revenue, dtype: float64"
      ]
     },
     "execution_count": 35,
     "metadata": {},
     "output_type": "execute_result"
    },
    {
     "data": {
      "image/png": "[encoded data removed]",
      "text/plain": [
       "<Figure size 432x288 with 1 Axes>"
      ]
     },
     "metadata": {
      "needs_background": "light"
     },
     "output_type": "display_data"
    }
   ],
   "source": [
    "# visualizing the data\n",
    "sns.barplot(data = exploded_genres, x = 'genres_split', y = 'revenue');\n",
    "# grouping rating my mean revenue\n",
    "exploded_genres.groupby('genres_split')['revenue'].mean()"
   ]
  },
  {
   "cell_type": "markdown",
   "id": "c1721df5",
   "metadata": {},
   "source": [
    "## Question #3"
   ]
  },
  {
   "cell_type": "markdown",
   "id": "29bac173",
   "metadata": {},
   "source": [
    "## Does the genre of a movie affect how much revenue the movie generates?\n",
    "\n",
    "#### 1. Stating Null Hypothesis and Alternate Hypothesis:\n",
    "\n",
    "- Null Hypothesis: All movies generate similar revenue regardless of genre.\n",
    "- Alternate Hypothesis: There is a difference in movie revenue depending on genre.\n",
    "\n",
    "#### 2. Selecting the correct test according to the data type and number of samples:\n",
    "\n",
    "- The movie revenue is numeric and there are multiple genres (Family, Adventure, Romance, etc).\n",
    "- I will use an ANOVA test\n",
    "\n",
    "#### 3. Test the assumptions of the selected test:\n",
    "\n",
    "- The assumptions are: No significant outliers, Normality, Equal Variance\n",
    "\n",
    "#### 4. Execute the selected test, or the alternative test (if the assumptions are not met):\n",
    "\n",
    "- removed outliers from groups\n",
    "- none of the groups has a normal distribution, but they have enough samples to proceed\n",
    "- the groups do not have equal variance. Will use Kruskal-Wallis test\n",
    "\n",
    "#### 5. Interpreting the p-value (reject or fail to reject your null hypothesis):\n",
    "\n",
    "- I reject my Null Hypothesis because the p-value was less than .05 and accept my Alternative Hypothesis that there is a difference in revenue based on the different movie ratings."
   ]
  },
  {
   "cell_type": "code",
   "execution_count": 36,
   "id": "48a75975",
   "metadata": {},
   "outputs": [
    {
     "data": {
      "text/html": [
       "<div>\n",
       "<style scoped>\n",
       "    .dataframe tbody tr th:only-of-type {\n",
       "        vertical-align: middle;\n",
       "    }\n",
       "\n",
       "    .dataframe tbody tr th {\n",
       "        vertical-align: top;\n",
       "    }\n",
       "\n",
       "    .dataframe thead th {\n",
       "        text-align: right;\n",
       "    }\n",
       "</style>\n",
       "<table border=\"1\" class=\"dataframe\">\n",
       "  <thead>\n",
       "    <tr style=\"text-align: right;\">\n",
       "      <th></th>\n",
       "      <th>tconst</th>\n",
       "      <th>averageRating</th>\n",
       "      <th>numVotes</th>\n",
       "    </tr>\n",
       "  </thead>\n",
       "  <tbody>\n",
       "    <tr>\n",
       "      <th>0</th>\n",
       "      <td>tt0000001</td>\n",
       "      <td>5.7</td>\n",
       "      <td>1900</td>\n",
       "    </tr>\n",
       "    <tr>\n",
       "      <th>1</th>\n",
       "      <td>tt0000002</td>\n",
       "      <td>5.9</td>\n",
       "      <td>254</td>\n",
       "    </tr>\n",
       "    <tr>\n",
       "      <th>2</th>\n",
       "      <td>tt0000003</td>\n",
       "      <td>6.5</td>\n",
       "      <td>1692</td>\n",
       "    </tr>\n",
       "    <tr>\n",
       "      <th>3</th>\n",
       "      <td>tt0000004</td>\n",
       "      <td>5.7</td>\n",
       "      <td>166</td>\n",
       "    </tr>\n",
       "    <tr>\n",
       "      <th>4</th>\n",
       "      <td>tt0000005</td>\n",
       "      <td>6.2</td>\n",
       "      <td>2509</td>\n",
       "    </tr>\n",
       "  </tbody>\n",
       "</table>\n",
       "</div>"
      ],
      "text/plain": [
       "      tconst  averageRating  numVotes\n",
       "0  tt0000001            5.7      1900\n",
       "1  tt0000002            5.9       254\n",
       "2  tt0000003            6.5      1692\n",
       "3  tt0000004            5.7       166\n",
       "4  tt0000005            6.2      2509"
      ]
     },
     "execution_count": 36,
     "metadata": {},
     "output_type": "execute_result"
    }
   ],
   "source": [
    "# loading ratings data\n",
    "ratings_df = pd.read_csv('Data/ratings.csv.gz')\n",
    "ratings_df.head()"
   ]
  },
  {
   "cell_type": "code",
   "execution_count": 37,
   "id": "daf173ba",
   "metadata": {},
   "outputs": [
    {
     "data": {
      "text/plain": [
       "count    1.246490e+06\n",
       "mean     6.915330e+00\n",
       "std      1.393698e+00\n",
       "min      1.000000e+00\n",
       "25%      6.200000e+00\n",
       "50%      7.100000e+00\n",
       "75%      7.900000e+00\n",
       "max      1.000000e+01\n",
       "Name: averageRating, dtype: float64"
      ]
     },
     "execution_count": 37,
     "metadata": {},
     "output_type": "execute_result"
    }
   ],
   "source": [
    "ratings_df['averageRating'].describe()"
   ]
  },
  {
   "cell_type": "code",
   "execution_count": 38,
   "id": "8a1c77f6",
   "metadata": {},
   "outputs": [
    {
     "data": {
      "text/html": [
       "<div>\n",
       "<style scoped>\n",
       "    .dataframe tbody tr th:only-of-type {\n",
       "        vertical-align: middle;\n",
       "    }\n",
       "\n",
       "    .dataframe tbody tr th {\n",
       "        vertical-align: top;\n",
       "    }\n",
       "\n",
       "    .dataframe thead th {\n",
       "        text-align: right;\n",
       "    }\n",
       "</style>\n",
       "<table border=\"1\" class=\"dataframe\">\n",
       "  <thead>\n",
       "    <tr style=\"text-align: right;\">\n",
       "      <th></th>\n",
       "      <th>tconst</th>\n",
       "      <th>averageRating</th>\n",
       "      <th>numVotes</th>\n",
       "      <th>positive_rating</th>\n",
       "    </tr>\n",
       "  </thead>\n",
       "  <tbody>\n",
       "    <tr>\n",
       "      <th>0</th>\n",
       "      <td>tt0000001</td>\n",
       "      <td>5.7</td>\n",
       "      <td>1900</td>\n",
       "      <td>False</td>\n",
       "    </tr>\n",
       "    <tr>\n",
       "      <th>1</th>\n",
       "      <td>tt0000002</td>\n",
       "      <td>5.9</td>\n",
       "      <td>254</td>\n",
       "      <td>False</td>\n",
       "    </tr>\n",
       "    <tr>\n",
       "      <th>2</th>\n",
       "      <td>tt0000003</td>\n",
       "      <td>6.5</td>\n",
       "      <td>1692</td>\n",
       "      <td>False</td>\n",
       "    </tr>\n",
       "    <tr>\n",
       "      <th>3</th>\n",
       "      <td>tt0000004</td>\n",
       "      <td>5.7</td>\n",
       "      <td>166</td>\n",
       "      <td>False</td>\n",
       "    </tr>\n",
       "    <tr>\n",
       "      <th>4</th>\n",
       "      <td>tt0000005</td>\n",
       "      <td>6.2</td>\n",
       "      <td>2509</td>\n",
       "      <td>False</td>\n",
       "    </tr>\n",
       "  </tbody>\n",
       "</table>\n",
       "</div>"
      ],
      "text/plain": [
       "      tconst  averageRating  numVotes  positive_rating\n",
       "0  tt0000001            5.7      1900            False\n",
       "1  tt0000002            5.9       254            False\n",
       "2  tt0000003            6.5      1692            False\n",
       "3  tt0000004            5.7       166            False\n",
       "4  tt0000005            6.2      2509            False"
      ]
     },
     "execution_count": 38,
     "metadata": {},
     "output_type": "execute_result"
    }
   ],
   "source": [
    "# creating a new column to label all highly rated movies\n",
    "ratings_df['positive_rating'] = ratings_df['averageRating'].apply(lambda x: True if x >= 8 else False)\n",
    "ratings_df.head()"
   ]
  },
  {
   "cell_type": "code",
   "execution_count": 39,
   "id": "4510a3ff",
   "metadata": {},
   "outputs": [
    {
     "data": {
      "text/html": [
       "<div>\n",
       "<style scoped>\n",
       "    .dataframe tbody tr th:only-of-type {\n",
       "        vertical-align: middle;\n",
       "    }\n",
       "\n",
       "    .dataframe tbody tr th {\n",
       "        vertical-align: top;\n",
       "    }\n",
       "\n",
       "    .dataframe thead th {\n",
       "        text-align: right;\n",
       "    }\n",
       "</style>\n",
       "<table border=\"1\" class=\"dataframe\">\n",
       "  <thead>\n",
       "    <tr style=\"text-align: right;\">\n",
       "      <th></th>\n",
       "      <th>imdb_id</th>\n",
       "      <th>title</th>\n",
       "      <th>revenue</th>\n",
       "      <th>budget</th>\n",
       "      <th>rating</th>\n",
       "      <th>tconst</th>\n",
       "      <th>averageRating</th>\n",
       "      <th>positive_rating</th>\n",
       "    </tr>\n",
       "  </thead>\n",
       "  <tbody>\n",
       "    <tr>\n",
       "      <th>0</th>\n",
       "      <td>tt0118694</td>\n",
       "      <td>In the Mood for Love</td>\n",
       "      <td>12854953.0</td>\n",
       "      <td>150000.0</td>\n",
       "      <td>PG</td>\n",
       "      <td>tt0118694</td>\n",
       "      <td>8.1</td>\n",
       "      <td>True</td>\n",
       "    </tr>\n",
       "    <tr>\n",
       "      <th>1</th>\n",
       "      <td>tt0118852</td>\n",
       "      <td>Chinese Coffee</td>\n",
       "      <td>0.0</td>\n",
       "      <td>0.0</td>\n",
       "      <td>R</td>\n",
       "      <td>tt0118852</td>\n",
       "      <td>7.1</td>\n",
       "      <td>False</td>\n",
       "    </tr>\n",
       "    <tr>\n",
       "      <th>2</th>\n",
       "      <td>tt0119273</td>\n",
       "      <td>Heavy Metal 2000</td>\n",
       "      <td>0.0</td>\n",
       "      <td>15000000.0</td>\n",
       "      <td>R</td>\n",
       "      <td>tt0119273</td>\n",
       "      <td>5.3</td>\n",
       "      <td>False</td>\n",
       "    </tr>\n",
       "    <tr>\n",
       "      <th>3</th>\n",
       "      <td>tt0119495</td>\n",
       "      <td>Love 101</td>\n",
       "      <td>0.0</td>\n",
       "      <td>0.0</td>\n",
       "      <td>R</td>\n",
       "      <td>tt0119495</td>\n",
       "      <td>5.1</td>\n",
       "      <td>False</td>\n",
       "    </tr>\n",
       "    <tr>\n",
       "      <th>4</th>\n",
       "      <td>tt0120467</td>\n",
       "      <td>Vulgar</td>\n",
       "      <td>14904.0</td>\n",
       "      <td>120000.0</td>\n",
       "      <td>R</td>\n",
       "      <td>tt0120467</td>\n",
       "      <td>5.2</td>\n",
       "      <td>False</td>\n",
       "    </tr>\n",
       "  </tbody>\n",
       "</table>\n",
       "</div>"
      ],
      "text/plain": [
       "     imdb_id                 title     revenue      budget rating     tconst  \\\n",
       "0  tt0118694  In the Mood for Love  12854953.0    150000.0     PG  tt0118694   \n",
       "1  tt0118852        Chinese Coffee         0.0         0.0      R  tt0118852   \n",
       "2  tt0119273      Heavy Metal 2000         0.0  15000000.0      R  tt0119273   \n",
       "3  tt0119495              Love 101         0.0         0.0      R  tt0119495   \n",
       "4  tt0120467                Vulgar     14904.0    120000.0      R  tt0120467   \n",
       "\n",
       "   averageRating  positive_rating  \n",
       "0            8.1             True  \n",
       "1            7.1            False  \n",
       "2            5.3            False  \n",
       "3            5.1            False  \n",
       "4            5.2            False  "
      ]
     },
     "execution_count": 39,
     "metadata": {},
     "output_type": "execute_result"
    }
   ],
   "source": [
    "ratings_cols_transfer = ['tconst', 'averageRating', 'positive_rating']\n",
    "\n",
    "q3_df = pd.merge(df, ratings_df[ratings_cols_transfer], left_on = ['imdb_id'], right_on=['tconst'])\n",
    "q3_df.head()"
   ]
  },
  {
   "cell_type": "code",
   "execution_count": 40,
   "id": "2613091c",
   "metadata": {},
   "outputs": [
    {
     "data": {
      "text/plain": [
       "False    14277\n",
       "True       309\n",
       "Name: positive_rating, dtype: int64"
      ]
     },
     "execution_count": 40,
     "metadata": {},
     "output_type": "execute_result"
    }
   ],
   "source": [
    "q3_df['positive_rating'].value_counts()"
   ]
  },
  {
   "cell_type": "code",
   "execution_count": 41,
   "id": "dad3aed5",
   "metadata": {},
   "outputs": [],
   "source": [
    "# filtering out ratings above 8 and below\n",
    "above_df = q3_df[q3_df['positive_rating'] == True].copy()\n",
    "below_df = q3_df[q3_df['positive_rating'] == False].copy()"
   ]
  },
  {
   "cell_type": "code",
   "execution_count": 42,
   "id": "91a33583",
   "metadata": {},
   "outputs": [],
   "source": [
    "# getting revenue\n",
    "above_revenue = above_df['revenue']\n",
    "below_revenue = below_df['revenue']"
   ]
  },
  {
   "cell_type": "markdown",
   "id": "ecdf7c8c",
   "metadata": {},
   "source": [
    "### Testing Assumptions"
   ]
  },
  {
   "cell_type": "markdown",
   "id": "c148c38d",
   "metadata": {},
   "source": [
    "#### check for and remove outliers"
   ]
  },
  {
   "cell_type": "code",
   "execution_count": 43,
   "id": "87cfd655",
   "metadata": {},
   "outputs": [
    {
     "data": {
      "text/plain": [
       "6"
      ]
     },
     "execution_count": 43,
     "metadata": {},
     "output_type": "execute_result"
    }
   ],
   "source": [
    "# checking for outliers in the above group\n",
    "zscores = stats.zscore(above_revenue)\n",
    "outliers = abs(zscores) > 3\n",
    "np.sum(outliers)"
   ]
  },
  {
   "cell_type": "code",
   "execution_count": 44,
   "id": "dc63596b",
   "metadata": {},
   "outputs": [],
   "source": [
    "# removing outliers from the above group\n",
    "above_revenue = above_revenue[(np.abs(stats.zscore(above_revenue)) < 3)]"
   ]
  },
  {
   "cell_type": "code",
   "execution_count": 45,
   "id": "a4aafe59",
   "metadata": {},
   "outputs": [
    {
     "data": {
      "text/plain": [
       "280"
      ]
     },
     "execution_count": 45,
     "metadata": {},
     "output_type": "execute_result"
    }
   ],
   "source": [
    "# checking for outliers in the below group\n",
    "zscores = stats.zscore(below_revenue)\n",
    "outliers = abs(zscores) > 3\n",
    "np.sum(outliers)"
   ]
  },
  {
   "cell_type": "code",
   "execution_count": 46,
   "id": "354d7ad6",
   "metadata": {},
   "outputs": [],
   "source": [
    "# removing outliers from the below group\n",
    "below_revenue = below_revenue[(np.abs(stats.zscore(below_revenue)) < 3)]"
   ]
  },
  {
   "cell_type": "markdown",
   "id": "442c0431",
   "metadata": {},
   "source": [
    "#### Assumption of Normality"
   ]
  },
  {
   "cell_type": "code",
   "execution_count": 47,
   "id": "f6e0c014",
   "metadata": {},
   "outputs": [
    {
     "data": {
      "text/plain": [
       "NormaltestResult(statistic=168.29045297466538, pvalue=2.858857168233372e-37)"
      ]
     },
     "execution_count": 47,
     "metadata": {},
     "output_type": "execute_result"
    }
   ],
   "source": [
    "# testing above group for normality\n",
    "result_above_revenue = stats.normaltest(above_revenue)\n",
    "result_above_revenue"
   ]
  },
  {
   "cell_type": "code",
   "execution_count": 48,
   "id": "66c6b664",
   "metadata": {},
   "outputs": [
    {
     "data": {
      "text/plain": [
       "NormaltestResult(statistic=11212.23813214024, pvalue=0.0)"
      ]
     },
     "execution_count": 48,
     "metadata": {},
     "output_type": "execute_result"
    }
   ],
   "source": [
    "# testing below group for normality\n",
    "result_below_revenue = stats.normaltest(below_revenue)\n",
    "result_below_revenue"
   ]
  },
  {
   "cell_type": "markdown",
   "id": "9ef68a9b",
   "metadata": {},
   "source": [
    "Both groups have p-values less than 0.05 and I will reject the hypothesis that they have normal distributions. Because they have sample sizes large enough, the test will continue."
   ]
  },
  {
   "cell_type": "markdown",
   "id": "fae01f8d",
   "metadata": {},
   "source": [
    "#### Assumption of Equal Variance"
   ]
  },
  {
   "cell_type": "code",
   "execution_count": 49,
   "id": "9ef1a4d1",
   "metadata": {},
   "outputs": [
    {
     "data": {
      "text/plain": [
       "LeveneResult(statistic=847.443355080485, pvalue=4.7531709395274367e-181)"
      ]
     },
     "execution_count": 49,
     "metadata": {},
     "output_type": "execute_result"
    }
   ],
   "source": [
    "# checking for equal variance\n",
    "result = stats.levene(above_revenue, below_revenue)\n",
    "result"
   ]
  },
  {
   "cell_type": "markdown",
   "id": "b5bafdd6",
   "metadata": {},
   "source": [
    "With a p-value well below 0.05 we do not have equal variance. I will continue the test using equal_var = False."
   ]
  },
  {
   "cell_type": "markdown",
   "id": "44ec1b2d",
   "metadata": {},
   "source": [
    "### Final Test"
   ]
  },
  {
   "cell_type": "code",
   "execution_count": 50,
   "id": "86292069",
   "metadata": {},
   "outputs": [
    {
     "data": {
      "text/plain": [
       "Ttest_indResult(statistic=7.249870205876073, pvalue=3.5039877953647673e-12)"
      ]
     },
     "execution_count": 50,
     "metadata": {},
     "output_type": "execute_result"
    }
   ],
   "source": [
    "# preforming independent t-test with equal variance set to false\n",
    "result = stats.ttest_ind(above_revenue, below_revenue, equal_var = False)\n",
    "result"
   ]
  },
  {
   "cell_type": "markdown",
   "id": "821f5500",
   "metadata": {},
   "source": [
    "With the p-value below 0.05 there is a significant difference found. I will reject the hypothesis that there is not a difference in revenue generated between movies with high and low ratings. There is a difference."
   ]
  },
  {
   "cell_type": "markdown",
   "id": "645375de",
   "metadata": {},
   "source": [
    "### Visualization of findings"
   ]
  },
  {
   "cell_type": "code",
   "execution_count": null,
   "id": "37c97dd8",
   "metadata": {},
   "outputs": [],
   "source": []
  }
 ],
 "metadata": {
  "kernelspec": {
   "display_name": "Python (dojo-env)",
   "language": "python",
   "name": "dojo-env"
  },
  "language_info": {
   "codemirror_mode": {
    "name": "ipython",
    "version": 3
   },
   "file_extension": ".py",
   "mimetype": "text/x-python",
   "name": "python",
   "nbconvert_exporter": "python",
   "pygments_lexer": "ipython3",
   "version": "3.8.13"
  },
  "toc": {
   "base_numbering": 1,
   "nav_menu": {},
   "number_sections": true,
   "sideBar": true,
   "skip_h1_title": false,
   "title_cell": "Table of Contents",
   "title_sidebar": "Contents",
   "toc_cell": false,
   "toc_position": {},
   "toc_section_display": true,
   "toc_window_display": false
  }
 },
 "nbformat": 4,
 "nbformat_minor": 5
}
