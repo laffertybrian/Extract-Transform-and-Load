{
 "cells": [
  {
   "cell_type": "markdown",
   "id": "3787d0e6",
   "metadata": {},
   "source": [
    "### API Calls"
   ]
  },
  {
   "cell_type": "code",
   "execution_count": 2,
   "id": "26620117",
   "metadata": {},
   "outputs": [],
   "source": [
    "# imports\n",
    "import pandas as pd\n",
    "import numpy as np\n",
    "import os, time, json\n",
    "import tmdbsimple as tmdb\n",
    "from tqdm.notebook import tqdm_notebook"
   ]
  },
  {
   "cell_type": "code",
   "execution_count": 3,
   "id": "9f1018fb",
   "metadata": {},
   "outputs": [],
   "source": [
    "# setting credentials \n",
    "with open('/Users/laffe/.secret/tmdb_api.json', 'r') as f:\n",
    "    login = json.load(f)\n",
    "    \n",
    "# setting API key variable\n",
    "tmdb.API_KEY = login['api_key']"
   ]
  },
  {
   "cell_type": "code",
   "execution_count": 4,
   "id": "6466702a",
   "metadata": {},
   "outputs": [
    {
     "data": {
      "text/plain": [
       "['.ipynb_checkpoints',\n",
       " 'akas.csv.gz',\n",
       " 'basics.csv.gz',\n",
       " 'final_tmbd_data_2000.csv.gz',\n",
       " 'final_tmbd_data_2001.csv.gz',\n",
       " 'ratings.csv.gz',\n",
       " 'tmdb_api_results_for_2000.json',\n",
       " 'tmdb_api_results_for_2001.json']"
      ]
     },
     "execution_count": 4,
     "metadata": {},
     "output_type": "execute_result"
    }
   ],
   "source": [
    "# checking folder creation and what is located inside\n",
    "FOLDER = \"Data/\"\n",
    "os.makedirs(FOLDER, exist_ok = True)\n",
    "os.listdir(FOLDER)"
   ]
  },
  {
   "cell_type": "markdown",
   "id": "5398ee6d",
   "metadata": {},
   "source": [
    "### Functions"
   ]
  },
  {
   "cell_type": "code",
   "execution_count": 5,
   "id": "ec38be54",
   "metadata": {},
   "outputs": [],
   "source": [
    "# creating a function to get the movie rating\n",
    "def get_movie_details(movie_id):\n",
    "    # using the provided movie id to query the tmdb api\n",
    "    movie = tmdb.Movies(movie_id)\n",
    "    # store the information captured\n",
    "    info = movie.info()\n",
    "    releases = movie.releases()\n",
    "    # look over the countries in the releases dictionary\n",
    "    for c in releases['countries']:\n",
    "        if c['iso_3166_1'] == 'US':\n",
    "            # create a new key in the info dictionary with the rating\n",
    "            info['rating'] = c['certification']\n",
    "    \n",
    "    # only selecting the items needed from the dictionary\n",
    "    movie_details = {}       \n",
    "    for data in ['title', 'revenue', 'budget', 'rating', 'imdb_id']:\n",
    "        movie_details[data] = info[data]\n",
    "        \n",
    "    return movie_details"
   ]
  },
  {
   "cell_type": "code",
   "execution_count": 6,
   "id": "ecec32b1",
   "metadata": {},
   "outputs": [],
   "source": [
    "# creating a function to write new data to a json file\n",
    "def write_json(input_data, filename):\n",
    "    with open(filename, 'r+') as f:\n",
    "        # load data we currently have\n",
    "        file_data = json.load(f)\n",
    "        # extend data already written or write for the first time\n",
    "        if (type(input_data) == list) & (type(file_data) == list):\n",
    "            file_data.extend(input_data)\n",
    "        else:\n",
    "            file_data.append(input_data)\n",
    "        # sets the files current position at offset\n",
    "        f.seek(0)\n",
    "        # converting the file back to json\n",
    "        json.dump(file_data, f)"
   ]
  },
  {
   "cell_type": "markdown",
   "id": "94ca65af",
   "metadata": {},
   "source": [
    "### Creating Queries for selected years"
   ]
  },
  {
   "cell_type": "code",
   "execution_count": 7,
   "id": "3c8aff6c",
   "metadata": {},
   "outputs": [],
   "source": [
    "# limiting number of years\n",
    "YEARS = [2000, 2001]"
   ]
  },
  {
   "cell_type": "code",
   "execution_count": 8,
   "id": "b9d8ebff",
   "metadata": {},
   "outputs": [
    {
     "data": {
      "application/vnd.jupyter.widget-view+json": {
       "model_id": "527381e59ac94011aa33222a66ea041c",
       "version_major": 2,
       "version_minor": 0
      },
      "text/plain": [
       "YEARS:   0%|          | 0/2 [00:00<?, ?it/s]"
      ]
     },
     "metadata": {},
     "output_type": "display_data"
    },
    {
     "name": "stdout",
     "output_type": "stream",
     "text": [
      "[i] Data/tmdb_api_results_for_2000.json already exists.\n"
     ]
    },
    {
     "data": {
      "application/vnd.jupyter.widget-view+json": {
       "model_id": "55f5ed734f8f4a739177446cbc878f01",
       "version_major": 2,
       "version_minor": 0
      },
      "text/plain": [
       "Movies from 2000:   0%|          | 0/1409 [00:00<?, ?it/s]"
      ]
     },
     "metadata": {},
     "output_type": "display_data"
    },
    {
     "name": "stdout",
     "output_type": "stream",
     "text": [
      "[i] Data/tmdb_api_results_for_2001.json already exists.\n"
     ]
    },
    {
     "data": {
      "application/vnd.jupyter.widget-view+json": {
       "model_id": "e7430825317e4485bc33df26bf2c2a76",
       "version_major": 2,
       "version_minor": 0
      },
      "text/plain": [
       "Movies from 2001:   0%|          | 0/1525 [00:00<?, ?it/s]"
      ]
     },
     "metadata": {},
     "output_type": "display_data"
    }
   ],
   "source": [
    "# for loop for cycling years\n",
    "for year in tqdm_notebook(YEARS, desc = 'YEARS', position = 0):\n",
    "    # creating unique name for each year\n",
    "    JSON_FILE = f'{FOLDER}tmdb_api_results_for_{year}.json'\n",
    "    # checking for file and making if it hasn't been made yet\n",
    "    file_exists = os.path.isfile(JSON_FILE)\n",
    "    # if it does exist:\n",
    "    if file_exists == False:\n",
    "\n",
    "        # response to user\n",
    "        print(f\"[i] {JSON_FILE} not found. Saving empty list to file.\")\n",
    "    \n",
    "        # save the empty dict with imdb_id key\n",
    "        with open(JSON_FILE, 'w') as f:\n",
    "            json.dump([{'imdb_id':0}],f)\n",
    "    # if it exits, inform user\n",
    "    else:\n",
    "        print(f\"[i] {JSON_FILE} already exists.\")\n",
    "        \n",
    "    # loading in the basics file\n",
    "    basics = pd.read_csv('Data/basics.csv.gz')\n",
    "    # grab the data based on the year\n",
    "    df = basics.loc[basics['startYear'] == year].copy()\n",
    "    # getting the movie ids and saving to a list\n",
    "    movie_ids = df['tconst'].copy()#.to_list()\n",
    "    \n",
    "    # loading any existing data\n",
    "    previous_df = pd.read_json(JSON_FILE)\n",
    "    # filter out any movie ids that may already be in the file\n",
    "    movie_ids_needed = movie_ids[~movie_ids.isin(previous_df['imdb_id'])]\n",
    "    \n",
    "    # getting the movie id and index from list\n",
    "    for movie_id in tqdm_notebook(movie_ids_needed, \n",
    "                                  desc = f'Movies from {year}',\n",
    "                                 position = 1,\n",
    "                                 leave = True):\n",
    "        try:\n",
    "            # using function to call api and get details from specific movie\n",
    "            film = get_movie_details(movie_id)\n",
    "            # using function to write new data to json file\n",
    "            write_json(film, JSON_FILE)\n",
    "            # time inbetween calls with tqdm\n",
    "            time.sleep(0.02)\n",
    "        \n",
    "        except Exception as e:\n",
    "            continue\n",
    "            \n",
    "    # saving the final file to csv\n",
    "    final_year_df = pd.read_json(JSON_FILE)\n",
    "    final_year_df.to_csv(f\"{FOLDER}final_tmbd_data_{year}.csv.gz\",\n",
    "                         compression = \"gzip\",\n",
    "                        index = False)\n",
    "            "
   ]
  }
 ],
 "metadata": {
  "kernelspec": {
   "display_name": "Python (dojo-env)",
   "language": "python",
   "name": "dojo-env"
  },
  "language_info": {
   "codemirror_mode": {
    "name": "ipython",
    "version": 3
   },
   "file_extension": ".py",
   "mimetype": "text/x-python",
   "name": "python",
   "nbconvert_exporter": "python",
   "pygments_lexer": "ipython3",
   "version": "3.8.13"
  },
  "toc": {
   "base_numbering": 1,
   "nav_menu": {},
   "number_sections": true,
   "sideBar": true,
   "skip_h1_title": false,
   "title_cell": "Table of Contents",
   "title_sidebar": "Contents",
   "toc_cell": false,
   "toc_position": {},
   "toc_section_display": true,
   "toc_window_display": false
  }
 },
 "nbformat": 4,
 "nbformat_minor": 5
}
