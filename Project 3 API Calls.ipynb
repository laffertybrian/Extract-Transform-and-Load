{
 "cells": [
  {
   "cell_type": "markdown",
   "id": "3787d0e6",
   "metadata": {},
   "source": [
    "### API Calls"
   ]
  },
  {
   "cell_type": "code",
   "execution_count": 9,
   "id": "26620117",
   "metadata": {},
   "outputs": [],
   "source": [
    "# imports\n",
    "import pandas as pd\n",
    "import numpy as np\n",
    "import os, time, json\n",
    "import tmdbsimple as tmdb\n",
    "from tqdm.notebook import tqdm_notebook"
   ]
  },
  {
   "cell_type": "code",
   "execution_count": 10,
   "id": "9f1018fb",
   "metadata": {},
   "outputs": [],
   "source": [
    "# setting credentials \n",
    "with open('/Users/laffe/.secret/tmdb_api.json', 'r') as f:\n",
    "    login = json.load(f)\n",
    "    \n",
    "# setting API key variable\n",
    "tmdb.API_KEY = login['api_key']"
   ]
  },
  {
   "cell_type": "code",
   "execution_count": 11,
   "id": "6466702a",
   "metadata": {},
   "outputs": [
    {
     "data": {
      "text/plain": [
       "['.ipynb_checkpoints',\n",
       " 'akas.csv.gz',\n",
       " 'basics.csv.gz',\n",
       " 'final_tmbd_data_2000.csv.gz',\n",
       " 'final_tmbd_data_2001.csv.gz',\n",
       " 'movie_database.sql',\n",
       " 'number_movie_per_rating.png',\n",
       " 'ratings.csv.gz',\n",
       " 'revenue_per_rating.png',\n",
       " 'tmdb_api_results_for_2000.json',\n",
       " 'tmdb_api_results_for_2001.json',\n",
       " 'tmdb_results_combined.csv.gz']"
      ]
     },
     "execution_count": 11,
     "metadata": {},
     "output_type": "execute_result"
    }
   ],
   "source": [
    "# checking folder creation and what is located inside\n",
    "FOLDER = \"Data/\"\n",
    "os.makedirs(FOLDER, exist_ok = True)\n",
    "os.listdir(FOLDER)"
   ]
  },
  {
   "cell_type": "markdown",
   "id": "5398ee6d",
   "metadata": {},
   "source": [
    "### Functions"
   ]
  },
  {
   "cell_type": "code",
   "execution_count": 12,
   "id": "ec38be54",
   "metadata": {},
   "outputs": [],
   "source": [
    "# creating a function to get the movie rating\n",
    "def get_movie_details(movie_id):\n",
    "    # using the provided movie id to query the tmdb api\n",
    "    movie = tmdb.Movies(movie_id)\n",
    "    # store the information captured\n",
    "    info = movie.info()\n",
    "    releases = movie.releases()\n",
    "    # look over the countries in the releases dictionary\n",
    "    for c in releases['countries']:\n",
    "        if c['iso_3166_1'] == 'US':\n",
    "            # create a new key in the info dictionary with the rating\n",
    "            info['rating'] = c['certification']\n",
    "    \n",
    "    # only selecting the items needed from the dictionary\n",
    "    movie_details = {}       \n",
    "    for data in ['title', 'revenue', 'budget', 'rating', 'imdb_id']:\n",
    "        movie_details[data] = info[data]\n",
    "        \n",
    "    return movie_details"
   ]
  },
  {
   "cell_type": "code",
   "execution_count": 13,
   "id": "ecec32b1",
   "metadata": {},
   "outputs": [],
   "source": [
    "# creating a function to write new data to a json file\n",
    "def write_json(input_data, filename):\n",
    "    with open(filename, 'r+') as f:\n",
    "        # load data we currently have\n",
    "        file_data = json.load(f)\n",
    "        # extend data already written or write for the first time\n",
    "        if (type(input_data) == list) & (type(file_data) == list):\n",
    "            file_data.extend(input_data)\n",
    "        else:\n",
    "            file_data.append(input_data)\n",
    "        # sets the files current position at offset\n",
    "        f.seek(0)\n",
    "        # converting the file back to json\n",
    "        json.dump(file_data, f)"
   ]
  },
  {
   "cell_type": "markdown",
   "id": "94ca65af",
   "metadata": {},
   "source": [
    "### Creating Queries for selected years"
   ]
  },
  {
   "cell_type": "code",
   "execution_count": 14,
   "id": "3c8aff6c",
   "metadata": {},
   "outputs": [],
   "source": [
    "# limiting number of years\n",
    "#YEARS = [2000, 2001]\n",
    "# creating year list from 2000 to 2022\n",
    "YEARS = list(range(2000, 2023, 1))"
   ]
  },
  {
   "cell_type": "code",
   "execution_count": 15,
   "id": "b9d8ebff",
   "metadata": {
    "scrolled": true
   },
   "outputs": [
    {
     "data": {
      "application/vnd.jupyter.widget-view+json": {
       "model_id": "764a73e8160540f9bc2b7a74a0515aa0",
       "version_major": 2,
       "version_minor": 0
      },
      "text/plain": [
       "YEARS:   0%|          | 0/23 [00:00<?, ?it/s]"
      ]
     },
     "metadata": {},
     "output_type": "display_data"
    },
    {
     "name": "stdout",
     "output_type": "stream",
     "text": [
      "[i] Data/tmdb_api_results_for_2000.json already exists.\n"
     ]
    },
    {
     "data": {
      "application/vnd.jupyter.widget-view+json": {
       "model_id": "3d226152a13642bf80c1bbb3efc59554",
       "version_major": 2,
       "version_minor": 0
      },
      "text/plain": [
       "Movies from 2000:   0%|          | 0/621 [00:00<?, ?it/s]"
      ]
     },
     "metadata": {},
     "output_type": "display_data"
    },
    {
     "name": "stdout",
     "output_type": "stream",
     "text": [
      "[i] Data/tmdb_api_results_for_2001.json already exists.\n"
     ]
    },
    {
     "data": {
      "application/vnd.jupyter.widget-view+json": {
       "model_id": "592d6a16ba0c4c729597ddc07654ebc0",
       "version_major": 2,
       "version_minor": 0
      },
      "text/plain": [
       "Movies from 2001:   0%|          | 0/668 [00:00<?, ?it/s]"
      ]
     },
     "metadata": {},
     "output_type": "display_data"
    },
    {
     "name": "stdout",
     "output_type": "stream",
     "text": [
      "[i] Data/tmdb_api_results_for_2002.json not found. Saving empty list to file.\n"
     ]
    },
    {
     "data": {
      "application/vnd.jupyter.widget-view+json": {
       "model_id": "5dbb36490bb24b559ac2c69853cb2bcf",
       "version_major": 2,
       "version_minor": 0
      },
      "text/plain": [
       "Movies from 2002:   0%|          | 0/1515 [00:00<?, ?it/s]"
      ]
     },
     "metadata": {},
     "output_type": "display_data"
    },
    {
     "name": "stdout",
     "output_type": "stream",
     "text": [
      "[i] Data/tmdb_api_results_for_2003.json not found. Saving empty list to file.\n"
     ]
    },
    {
     "data": {
      "application/vnd.jupyter.widget-view+json": {
       "model_id": "7c2f56f71bef488194c561394f202c79",
       "version_major": 2,
       "version_minor": 0
      },
      "text/plain": [
       "Movies from 2003:   0%|          | 0/1637 [00:00<?, ?it/s]"
      ]
     },
     "metadata": {},
     "output_type": "display_data"
    },
    {
     "name": "stdout",
     "output_type": "stream",
     "text": [
      "[i] Data/tmdb_api_results_for_2004.json not found. Saving empty list to file.\n"
     ]
    },
    {
     "data": {
      "application/vnd.jupyter.widget-view+json": {
       "model_id": "727ae883eb0b43cc9ab6d0cae6bfbdd8",
       "version_major": 2,
       "version_minor": 0
      },
      "text/plain": [
       "Movies from 2004:   0%|          | 0/1836 [00:00<?, ?it/s]"
      ]
     },
     "metadata": {},
     "output_type": "display_data"
    },
    {
     "name": "stdout",
     "output_type": "stream",
     "text": [
      "[i] Data/tmdb_api_results_for_2005.json not found. Saving empty list to file.\n"
     ]
    },
    {
     "data": {
      "application/vnd.jupyter.widget-view+json": {
       "model_id": "a44240d413814eaba82718cb20602e91",
       "version_major": 2,
       "version_minor": 0
      },
      "text/plain": [
       "Movies from 2005:   0%|          | 0/2132 [00:00<?, ?it/s]"
      ]
     },
     "metadata": {},
     "output_type": "display_data"
    },
    {
     "name": "stdout",
     "output_type": "stream",
     "text": [
      "[i] Data/tmdb_api_results_for_2006.json not found. Saving empty list to file.\n"
     ]
    },
    {
     "data": {
      "application/vnd.jupyter.widget-view+json": {
       "model_id": "8defbd841bc04addb03117f87049831b",
       "version_major": 2,
       "version_minor": 0
      },
      "text/plain": [
       "Movies from 2006:   0%|          | 0/2351 [00:00<?, ?it/s]"
      ]
     },
     "metadata": {},
     "output_type": "display_data"
    },
    {
     "name": "stdout",
     "output_type": "stream",
     "text": [
      "[i] Data/tmdb_api_results_for_2007.json not found. Saving empty list to file.\n"
     ]
    },
    {
     "data": {
      "application/vnd.jupyter.widget-view+json": {
       "model_id": "77301257df094049b9ba08409dce9635",
       "version_major": 2,
       "version_minor": 0
      },
      "text/plain": [
       "Movies from 2007:   0%|          | 0/2488 [00:00<?, ?it/s]"
      ]
     },
     "metadata": {},
     "output_type": "display_data"
    },
    {
     "name": "stdout",
     "output_type": "stream",
     "text": [
      "[i] Data/tmdb_api_results_for_2008.json not found. Saving empty list to file.\n"
     ]
    },
    {
     "data": {
      "application/vnd.jupyter.widget-view+json": {
       "model_id": "a72224dbbc31444c8ec4eff155a646f9",
       "version_major": 2,
       "version_minor": 0
      },
      "text/plain": [
       "Movies from 2008:   0%|          | 0/2834 [00:00<?, ?it/s]"
      ]
     },
     "metadata": {},
     "output_type": "display_data"
    },
    {
     "name": "stdout",
     "output_type": "stream",
     "text": [
      "[i] Data/tmdb_api_results_for_2009.json not found. Saving empty list to file.\n"
     ]
    },
    {
     "data": {
      "application/vnd.jupyter.widget-view+json": {
       "model_id": "14ef1571a1a94a8ba09e894b503b58ed",
       "version_major": 2,
       "version_minor": 0
      },
      "text/plain": [
       "Movies from 2009:   0%|          | 0/3456 [00:00<?, ?it/s]"
      ]
     },
     "metadata": {},
     "output_type": "display_data"
    },
    {
     "name": "stdout",
     "output_type": "stream",
     "text": [
      "[i] Data/tmdb_api_results_for_2010.json not found. Saving empty list to file.\n"
     ]
    },
    {
     "data": {
      "application/vnd.jupyter.widget-view+json": {
       "model_id": "db35137a72c04623ad6e9e968ad07c4f",
       "version_major": 2,
       "version_minor": 0
      },
      "text/plain": [
       "Movies from 2010:   0%|          | 0/3759 [00:00<?, ?it/s]"
      ]
     },
     "metadata": {},
     "output_type": "display_data"
    },
    {
     "name": "stdout",
     "output_type": "stream",
     "text": [
      "[i] Data/tmdb_api_results_for_2011.json not found. Saving empty list to file.\n"
     ]
    },
    {
     "data": {
      "application/vnd.jupyter.widget-view+json": {
       "model_id": "79aa142af63f494586ca8798498c448a",
       "version_major": 2,
       "version_minor": 0
      },
      "text/plain": [
       "Movies from 2011:   0%|          | 0/4140 [00:00<?, ?it/s]"
      ]
     },
     "metadata": {},
     "output_type": "display_data"
    },
    {
     "name": "stdout",
     "output_type": "stream",
     "text": [
      "[i] Data/tmdb_api_results_for_2012.json not found. Saving empty list to file.\n"
     ]
    },
    {
     "data": {
      "application/vnd.jupyter.widget-view+json": {
       "model_id": "7f7582ba761b48d4ad3b3f1b83fe4021",
       "version_major": 2,
       "version_minor": 0
      },
      "text/plain": [
       "Movies from 2012:   0%|          | 0/4434 [00:00<?, ?it/s]"
      ]
     },
     "metadata": {},
     "output_type": "display_data"
    },
    {
     "name": "stdout",
     "output_type": "stream",
     "text": [
      "[i] Data/tmdb_api_results_for_2013.json not found. Saving empty list to file.\n"
     ]
    },
    {
     "data": {
      "application/vnd.jupyter.widget-view+json": {
       "model_id": "e2fd0ba2a5034a16a6782f04e4f9edf2",
       "version_major": 2,
       "version_minor": 0
      },
      "text/plain": [
       "Movies from 2013:   0%|          | 0/4635 [00:00<?, ?it/s]"
      ]
     },
     "metadata": {},
     "output_type": "display_data"
    },
    {
     "name": "stdout",
     "output_type": "stream",
     "text": [
      "[i] Data/tmdb_api_results_for_2014.json not found. Saving empty list to file.\n"
     ]
    },
    {
     "data": {
      "application/vnd.jupyter.widget-view+json": {
       "model_id": "73616cdcd5da404d9c2faf3ab723a85e",
       "version_major": 2,
       "version_minor": 0
      },
      "text/plain": [
       "Movies from 2014:   0%|          | 0/4787 [00:00<?, ?it/s]"
      ]
     },
     "metadata": {},
     "output_type": "display_data"
    },
    {
     "name": "stdout",
     "output_type": "stream",
     "text": [
      "[i] Data/tmdb_api_results_for_2015.json not found. Saving empty list to file.\n"
     ]
    },
    {
     "data": {
      "application/vnd.jupyter.widget-view+json": {
       "model_id": "83b395a3e5b3403ab14acd62d6d9e2f4",
       "version_major": 2,
       "version_minor": 0
      },
      "text/plain": [
       "Movies from 2015:   0%|          | 0/4941 [00:00<?, ?it/s]"
      ]
     },
     "metadata": {},
     "output_type": "display_data"
    },
    {
     "name": "stdout",
     "output_type": "stream",
     "text": [
      "[i] Data/tmdb_api_results_for_2016.json not found. Saving empty list to file.\n"
     ]
    },
    {
     "data": {
      "application/vnd.jupyter.widget-view+json": {
       "model_id": "7d34bee2b1b548efaaa2eca6ba618fed",
       "version_major": 2,
       "version_minor": 0
      },
      "text/plain": [
       "Movies from 2016:   0%|          | 0/5164 [00:00<?, ?it/s]"
      ]
     },
     "metadata": {},
     "output_type": "display_data"
    },
    {
     "name": "stdout",
     "output_type": "stream",
     "text": [
      "[i] Data/tmdb_api_results_for_2017.json not found. Saving empty list to file.\n"
     ]
    },
    {
     "data": {
      "application/vnd.jupyter.widget-view+json": {
       "model_id": "dfa86e8a268442c4a8f4a3c2384aeed3",
       "version_major": 2,
       "version_minor": 0
      },
      "text/plain": [
       "Movies from 2017:   0%|          | 0/5523 [00:00<?, ?it/s]"
      ]
     },
     "metadata": {},
     "output_type": "display_data"
    },
    {
     "name": "stdout",
     "output_type": "stream",
     "text": [
      "[i] Data/tmdb_api_results_for_2018.json not found. Saving empty list to file.\n"
     ]
    },
    {
     "data": {
      "application/vnd.jupyter.widget-view+json": {
       "model_id": "e431c317f4444e8cbb14db4d44ad5504",
       "version_major": 2,
       "version_minor": 0
      },
      "text/plain": [
       "Movies from 2018:   0%|          | 0/5649 [00:00<?, ?it/s]"
      ]
     },
     "metadata": {},
     "output_type": "display_data"
    },
    {
     "name": "stdout",
     "output_type": "stream",
     "text": [
      "[i] Data/tmdb_api_results_for_2019.json not found. Saving empty list to file.\n"
     ]
    },
    {
     "data": {
      "application/vnd.jupyter.widget-view+json": {
       "model_id": "fff3b651913a41c49120d13227b8ace1",
       "version_major": 2,
       "version_minor": 0
      },
      "text/plain": [
       "Movies from 2019:   0%|          | 0/5692 [00:00<?, ?it/s]"
      ]
     },
     "metadata": {},
     "output_type": "display_data"
    },
    {
     "name": "stdout",
     "output_type": "stream",
     "text": [
      "[i] Data/tmdb_api_results_for_2020.json not found. Saving empty list to file.\n"
     ]
    },
    {
     "data": {
      "application/vnd.jupyter.widget-view+json": {
       "model_id": "b1787d9ae83d425b8f56f8d3bf668efd",
       "version_major": 2,
       "version_minor": 0
      },
      "text/plain": [
       "Movies from 2020:   0%|          | 0/4771 [00:00<?, ?it/s]"
      ]
     },
     "metadata": {},
     "output_type": "display_data"
    },
    {
     "name": "stdout",
     "output_type": "stream",
     "text": [
      "[i] Data/tmdb_api_results_for_2021.json not found. Saving empty list to file.\n"
     ]
    },
    {
     "data": {
      "application/vnd.jupyter.widget-view+json": {
       "model_id": "8dc2b8c2e6d441c1aefed6cd2718bbd2",
       "version_major": 2,
       "version_minor": 0
      },
      "text/plain": [
       "Movies from 2021:   0%|          | 0/4789 [00:00<?, ?it/s]"
      ]
     },
     "metadata": {},
     "output_type": "display_data"
    },
    {
     "name": "stdout",
     "output_type": "stream",
     "text": [
      "[i] Data/tmdb_api_results_for_2022.json not found. Saving empty list to file.\n"
     ]
    },
    {
     "data": {
      "application/vnd.jupyter.widget-view+json": {
       "model_id": "c630076f7b3f4eafb96a519dc1d12af5",
       "version_major": 2,
       "version_minor": 0
      },
      "text/plain": [
       "Movies from 2022:   0%|          | 0/2292 [00:00<?, ?it/s]"
      ]
     },
     "metadata": {},
     "output_type": "display_data"
    }
   ],
   "source": [
    "# for loop for cycling years\n",
    "for year in tqdm_notebook(YEARS, desc = 'YEARS', position = 0):\n",
    "    # creating unique name for each year\n",
    "    JSON_FILE = f'{FOLDER}tmdb_api_results_for_{year}.json'\n",
    "    # checking for file and making if it hasn't been made yet\n",
    "    file_exists = os.path.isfile(JSON_FILE)\n",
    "    # if it does exist:\n",
    "    if file_exists == False:\n",
    "\n",
    "        # response to user\n",
    "        print(f\"[i] {JSON_FILE} not found. Saving empty list to file.\")\n",
    "    \n",
    "        # save the empty dict with imdb_id key\n",
    "        with open(JSON_FILE, 'w') as f:\n",
    "            json.dump([{'imdb_id':0}],f)\n",
    "    # if it exits, inform user\n",
    "    else:\n",
    "        print(f\"[i] {JSON_FILE} already exists.\")\n",
    "        \n",
    "    # loading in the basics file\n",
    "    basics = pd.read_csv('Data/basics.csv.gz')\n",
    "    # grab the data based on the year\n",
    "    df = basics.loc[basics['startYear'] == year].copy()\n",
    "    # getting the movie ids and saving to a list\n",
    "    movie_ids = df['tconst'].copy()#.to_list()\n",
    "    \n",
    "    # loading any existing data\n",
    "    previous_df = pd.read_json(JSON_FILE)\n",
    "    # filter out any movie ids that may already be in the file\n",
    "    movie_ids_needed = movie_ids[~movie_ids.isin(previous_df['imdb_id'])]\n",
    "    \n",
    "    # getting the movie id and index from list\n",
    "    for movie_id in tqdm_notebook(movie_ids_needed, \n",
    "                                  desc = f'Movies from {year}',\n",
    "                                 position = 1,\n",
    "                                 leave = True):\n",
    "        try:\n",
    "            # using function to call api and get details from specific movie\n",
    "            film = get_movie_details(movie_id)\n",
    "            # using function to write new data to json file\n",
    "            write_json(film, JSON_FILE)\n",
    "            # time inbetween calls with tqdm\n",
    "            time.sleep(0.02)\n",
    "        \n",
    "        except Exception as e:\n",
    "            continue\n",
    "            \n",
    "    # saving the final file to csv\n",
    "    final_year_df = pd.read_json(JSON_FILE)\n",
    "    final_year_df.to_csv(f\"{FOLDER}final_tmbd_data_{year}.csv.gz\",\n",
    "                         compression = \"gzip\",\n",
    "                        index = False)\n",
    "            "
   ]
  }
 ],
 "metadata": {
  "kernelspec": {
   "display_name": "Python (dojo-env)",
   "language": "python",
   "name": "dojo-env"
  },
  "language_info": {
   "codemirror_mode": {
    "name": "ipython",
    "version": 3
   },
   "file_extension": ".py",
   "mimetype": "text/x-python",
   "name": "python",
   "nbconvert_exporter": "python",
   "pygments_lexer": "ipython3",
   "version": "3.8.13"
  },
  "toc": {
   "base_numbering": 1,
   "nav_menu": {},
   "number_sections": true,
   "sideBar": true,
   "skip_h1_title": false,
   "title_cell": "Table of Contents",
   "title_sidebar": "Contents",
   "toc_cell": false,
   "toc_position": {},
   "toc_section_display": true,
   "toc_window_display": false
  }
 },
 "nbformat": 4,
 "nbformat_minor": 5
}
